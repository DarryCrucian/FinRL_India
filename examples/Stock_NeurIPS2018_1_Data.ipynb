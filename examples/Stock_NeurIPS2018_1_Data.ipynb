{
  "cells": [
    {
      "cell_type": "markdown",
      "metadata": {
        "id": "Sy8r7_g5WjAT"
      },
      "source": [
        "# Stock NeurIPS2018 Part 1. Data\n",
        "This series is a reproduction of paper *the process in the paper Practical Deep Reinforcement Learning Approach for Stock Trading*. \n",
        "\n",
        "This is the first part of the NeurIPS2018 series, introducing how to use FinRL to fetch and process data that we need for ML/RL trading.\n",
        "\n",
        "Other demos can be found at the repo of [FinRL-Tutorials]((https://github.com/AI4Finance-Foundation/FinRL-Tutorials))."
      ]
    },
    {
      "cell_type": "markdown",
      "metadata": {
        "id": "2uH1KXctgnoJ"
      },
      "source": [
        "# Part 1. Install Packages"
      ]
    },
    {
      "cell_type": "code",
      "execution_count": null,
      "metadata": {
        "id": "a2oD49e_N_05"
      },
      "outputs": [],
      "source": [
        "## install finrl library\n",
        "!pip install git+https://github.com/AI4Finance-Foundation/FinRL.git"
      ]
    },
    {
      "cell_type": "code",
      "execution_count": 1,
      "metadata": {
        "id": "j37flV31OJGW"
      },
      "outputs": [
        {
          "name": "stderr",
          "output_type": "stream",
          "text": [
            "C:\\Users\\aryam\\AppData\\Local\\Temp\\ipykernel_45732\\1185721934.py:1: DeprecationWarning: \n",
            "Pyarrow will become a required dependency of pandas in the next major release of pandas (pandas 3.0),\n",
            "(to allow more performant data types, such as the Arrow string type, and better interoperability with other libraries)\n",
            "but was too old on your system - pyarrow 10.0.1 is the current minimum supported version as of this release.\n",
            "If this would cause problems for you,\n",
            "please provide us feedback at https://github.com/pandas-dev/pandas/issues/54466\n",
            "        \n",
            "  import pandas as pd\n"
          ]
        }
      ],
      "source": [
        "import pandas as pd\n",
        "import numpy as np\n",
        "import datetime\n",
        "import yfinance as yf\n",
        "\n",
        "from finrl.meta.preprocessor.yahoodownloader import YahooDownloader\n",
        "from finrl.meta.preprocessor.preprocessors import FeatureEngineer, data_split\n",
        "from finrl import config_tickers\n",
        "from finrl.config import INDICATORS\n",
        "\n",
        "import itertools"
      ]
    },
    {
      "cell_type": "markdown",
      "metadata": {
        "id": "wxsN8i7tg07U"
      },
      "source": [
        "# Part 2. Fetch data"
      ]
    },
    {
      "cell_type": "markdown",
      "metadata": {
        "id": "fMNm9tCMXy8J"
      },
      "source": [
        "[yfinance](https://github.com/ranaroussi/yfinance) is an open-source library that provides APIs fetching historical data form Yahoo Finance. In FinRL, we have a class called [YahooDownloader](https://github.com/AI4Finance-Foundation/FinRL/blob/master/finrl/meta/preprocessor/yahoodownloader.py) that use yfinance to fetch data from Yahoo Finance."
      ]
    },
    {
      "cell_type": "markdown",
      "metadata": {
        "id": "CWVXUkzaZE8m"
      },
      "source": [
        "**OHLCV**: Data downloaded are in the form of OHLCV, corresponding to **open, high, low, close, volume,** respectively. OHLCV is important because they contain most of numerical information of a stock in time series. From OHLCV, traders can get further judgement and prediction like the momentum, people's interest, market trends, etc."
      ]
    },
    {
      "cell_type": "markdown",
      "metadata": {
        "id": "jRYlbdMpW9Np"
      },
      "source": [
        "## Data for a single ticker"
      ]
    },
    {
      "cell_type": "markdown",
      "metadata": {
        "id": "1wo6pCQYXDbz"
      },
      "source": [
        "Here we provide two ways to fetch data with single ticker, let's take Apple Inc. (AAPL) as an example."
      ]
    },
    {
      "cell_type": "markdown",
      "metadata": {
        "id": "yzVRe90WXLB1"
      },
      "source": [
        "### Using yfinance"
      ]
    },
    {
      "cell_type": "code",
      "execution_count": 2,
      "metadata": {
        "colab": {
          "base_uri": "https://localhost:8080/"
        },
        "id": "SSl6mVV7XNw6",
        "outputId": "460c06eb-c71d-4ebb-fe17-481295d70cff"
      },
      "outputs": [
        {
          "name": "stderr",
          "output_type": "stream",
          "text": [
            "c:\\Program Files\\Python310\\lib\\site-packages\\yfinance\\utils.py:775: FutureWarning: The 'unit' keyword in TimedeltaIndex construction is deprecated and will be removed in a future version. Use pd.to_timedelta instead.\n",
            "  df.index += _pd.TimedeltaIndex(dst_error_hours, 'h')\n",
            "[*********************100%%**********************]  1 of 1 completed\n"
          ]
        }
      ],
      "source": [
        "ril_df_yf = yf.download(tickers = \"RELIANCE.NS\", start='2020-01-01', end='2020-01-31')"
      ]
    },
    {
      "cell_type": "code",
      "execution_count": 3,
      "metadata": {
        "colab": {
          "base_uri": "https://localhost:8080/",
          "height": 238
        },
        "id": "Rjutz22rXrpR",
        "outputId": "62aadc8c-b854-403d-ac73-6cf86d53fa22"
      },
      "outputs": [
        {
          "data": {
            "text/html": [
              "<div>\n",
              "<style scoped>\n",
              "    .dataframe tbody tr th:only-of-type {\n",
              "        vertical-align: middle;\n",
              "    }\n",
              "\n",
              "    .dataframe tbody tr th {\n",
              "        vertical-align: top;\n",
              "    }\n",
              "\n",
              "    .dataframe thead th {\n",
              "        text-align: right;\n",
              "    }\n",
              "</style>\n",
              "<table border=\"1\" class=\"dataframe\">\n",
              "  <thead>\n",
              "    <tr style=\"text-align: right;\">\n",
              "      <th></th>\n",
              "      <th>Open</th>\n",
              "      <th>High</th>\n",
              "      <th>Low</th>\n",
              "      <th>Close</th>\n",
              "      <th>Adj Close</th>\n",
              "      <th>Volume</th>\n",
              "    </tr>\n",
              "    <tr>\n",
              "      <th>Date</th>\n",
              "      <th></th>\n",
              "      <th></th>\n",
              "      <th></th>\n",
              "      <th></th>\n",
              "      <th></th>\n",
              "      <th></th>\n",
              "    </tr>\n",
              "  </thead>\n",
              "  <tbody>\n",
              "    <tr>\n",
              "      <th>2020-01-01</th>\n",
              "      <td>1387.957031</td>\n",
              "      <td>1396.277466</td>\n",
              "      <td>1376.527954</td>\n",
              "      <td>1380.276611</td>\n",
              "      <td>1360.645142</td>\n",
              "      <td>7002234</td>\n",
              "    </tr>\n",
              "    <tr>\n",
              "      <th>2020-01-02</th>\n",
              "      <td>1382.471069</td>\n",
              "      <td>1408.941040</td>\n",
              "      <td>1382.471069</td>\n",
              "      <td>1403.775024</td>\n",
              "      <td>1383.809448</td>\n",
              "      <td>8855158</td>\n",
              "    </tr>\n",
              "    <tr>\n",
              "      <th>2020-01-03</th>\n",
              "      <td>1401.671997</td>\n",
              "      <td>1409.581055</td>\n",
              "      <td>1392.528687</td>\n",
              "      <td>1405.466553</td>\n",
              "      <td>1385.476807</td>\n",
              "      <td>10492349</td>\n",
              "    </tr>\n",
              "    <tr>\n",
              "      <th>2020-01-06</th>\n",
              "      <td>1389.785767</td>\n",
              "      <td>1397.008911</td>\n",
              "      <td>1369.670410</td>\n",
              "      <td>1372.870605</td>\n",
              "      <td>1353.344482</td>\n",
              "      <td>12259588</td>\n",
              "    </tr>\n",
              "    <tr>\n",
              "      <th>2020-01-07</th>\n",
              "      <td>1388.871338</td>\n",
              "      <td>1403.043579</td>\n",
              "      <td>1383.842529</td>\n",
              "      <td>1393.991699</td>\n",
              "      <td>1374.165161</td>\n",
              "      <td>8341811</td>\n",
              "    </tr>\n",
              "  </tbody>\n",
              "</table>\n",
              "</div>"
            ],
            "text/plain": [
              "                   Open         High          Low        Close    Adj Close  \\\n",
              "Date                                                                          \n",
              "2020-01-01  1387.957031  1396.277466  1376.527954  1380.276611  1360.645142   \n",
              "2020-01-02  1382.471069  1408.941040  1382.471069  1403.775024  1383.809448   \n",
              "2020-01-03  1401.671997  1409.581055  1392.528687  1405.466553  1385.476807   \n",
              "2020-01-06  1389.785767  1397.008911  1369.670410  1372.870605  1353.344482   \n",
              "2020-01-07  1388.871338  1403.043579  1383.842529  1393.991699  1374.165161   \n",
              "\n",
              "              Volume  \n",
              "Date                  \n",
              "2020-01-01   7002234  \n",
              "2020-01-02   8855158  \n",
              "2020-01-03  10492349  \n",
              "2020-01-06  12259588  \n",
              "2020-01-07   8341811  "
            ]
          },
          "execution_count": 3,
          "metadata": {},
          "output_type": "execute_result"
        }
      ],
      "source": [
        "ril_df_yf.head()"
      ]
    },
    {
      "cell_type": "markdown",
      "metadata": {
        "id": "fHZLDmnsXOK0"
      },
      "source": [
        "### Using FinRL"
      ]
    },
    {
      "cell_type": "markdown",
      "metadata": {
        "id": "VFB77ohNbXCc"
      },
      "source": [
        "In FinRL's YahooDownloader, we modified the data frame to the form that convenient for further data processing process. We use adjusted close price instead of close price, and add a column representing the day of a week (0-4 corresponding to Monday-Friday)."
      ]
    },
    {
      "cell_type": "code",
      "execution_count": 4,
      "metadata": {
        "colab": {
          "base_uri": "https://localhost:8080/"
        },
        "id": "7ufDHvt4XBWT",
        "outputId": "41603042-4f14-4814-c569-305d85fa7f9d"
      },
      "outputs": [
        {
          "name": "stderr",
          "output_type": "stream",
          "text": [
            "c:\\Program Files\\Python310\\lib\\site-packages\\yfinance\\utils.py:775: FutureWarning: The 'unit' keyword in TimedeltaIndex construction is deprecated and will be removed in a future version. Use pd.to_timedelta instead.\n",
            "  df.index += _pd.TimedeltaIndex(dst_error_hours, 'h')\n",
            "[*********************100%%**********************]  1 of 1 completed"
          ]
        },
        {
          "name": "stdout",
          "output_type": "stream",
          "text": [
            "Shape of DataFrame:  (22, 8)\n"
          ]
        },
        {
          "name": "stderr",
          "output_type": "stream",
          "text": [
            "\n"
          ]
        }
      ],
      "source": [
        "ril_df_finrl = YahooDownloader(start_date = '2020-01-01',\n",
        "                                end_date = '2020-01-31',\n",
        "                                ticker_list = ['RELIANCE.NS']).fetch_data()"
      ]
    },
    {
      "cell_type": "code",
      "execution_count": 5,
      "metadata": {
        "colab": {
          "base_uri": "https://localhost:8080/",
          "height": 206
        },
        "id": "_TgEjXxhXtT_",
        "outputId": "a8e8a9e2-a1ea-472e-eddf-2227e6c901d8"
      },
      "outputs": [
        {
          "data": {
            "text/html": [
              "<div>\n",
              "<style scoped>\n",
              "    .dataframe tbody tr th:only-of-type {\n",
              "        vertical-align: middle;\n",
              "    }\n",
              "\n",
              "    .dataframe tbody tr th {\n",
              "        vertical-align: top;\n",
              "    }\n",
              "\n",
              "    .dataframe thead th {\n",
              "        text-align: right;\n",
              "    }\n",
              "</style>\n",
              "<table border=\"1\" class=\"dataframe\">\n",
              "  <thead>\n",
              "    <tr style=\"text-align: right;\">\n",
              "      <th></th>\n",
              "      <th>date</th>\n",
              "      <th>open</th>\n",
              "      <th>high</th>\n",
              "      <th>low</th>\n",
              "      <th>close</th>\n",
              "      <th>volume</th>\n",
              "      <th>tic</th>\n",
              "      <th>day</th>\n",
              "    </tr>\n",
              "  </thead>\n",
              "  <tbody>\n",
              "    <tr>\n",
              "      <th>0</th>\n",
              "      <td>2020-01-01</td>\n",
              "      <td>1387.957031</td>\n",
              "      <td>1396.277466</td>\n",
              "      <td>1376.527954</td>\n",
              "      <td>1360.645142</td>\n",
              "      <td>7002234</td>\n",
              "      <td>RELIANCE.NS</td>\n",
              "      <td>2</td>\n",
              "    </tr>\n",
              "    <tr>\n",
              "      <th>1</th>\n",
              "      <td>2020-01-02</td>\n",
              "      <td>1382.471069</td>\n",
              "      <td>1408.941040</td>\n",
              "      <td>1382.471069</td>\n",
              "      <td>1383.809448</td>\n",
              "      <td>8855158</td>\n",
              "      <td>RELIANCE.NS</td>\n",
              "      <td>3</td>\n",
              "    </tr>\n",
              "    <tr>\n",
              "      <th>2</th>\n",
              "      <td>2020-01-03</td>\n",
              "      <td>1401.671997</td>\n",
              "      <td>1409.581055</td>\n",
              "      <td>1392.528687</td>\n",
              "      <td>1385.476807</td>\n",
              "      <td>10492349</td>\n",
              "      <td>RELIANCE.NS</td>\n",
              "      <td>4</td>\n",
              "    </tr>\n",
              "    <tr>\n",
              "      <th>3</th>\n",
              "      <td>2020-01-06</td>\n",
              "      <td>1389.785767</td>\n",
              "      <td>1397.008911</td>\n",
              "      <td>1369.670410</td>\n",
              "      <td>1353.344482</td>\n",
              "      <td>12259588</td>\n",
              "      <td>RELIANCE.NS</td>\n",
              "      <td>0</td>\n",
              "    </tr>\n",
              "    <tr>\n",
              "      <th>4</th>\n",
              "      <td>2020-01-07</td>\n",
              "      <td>1388.871338</td>\n",
              "      <td>1403.043579</td>\n",
              "      <td>1383.842529</td>\n",
              "      <td>1374.165161</td>\n",
              "      <td>8341811</td>\n",
              "      <td>RELIANCE.NS</td>\n",
              "      <td>1</td>\n",
              "    </tr>\n",
              "  </tbody>\n",
              "</table>\n",
              "</div>"
            ],
            "text/plain": [
              "         date         open         high          low        close    volume  \\\n",
              "0  2020-01-01  1387.957031  1396.277466  1376.527954  1360.645142   7002234   \n",
              "1  2020-01-02  1382.471069  1408.941040  1382.471069  1383.809448   8855158   \n",
              "2  2020-01-03  1401.671997  1409.581055  1392.528687  1385.476807  10492349   \n",
              "3  2020-01-06  1389.785767  1397.008911  1369.670410  1353.344482  12259588   \n",
              "4  2020-01-07  1388.871338  1403.043579  1383.842529  1374.165161   8341811   \n",
              "\n",
              "           tic  day  \n",
              "0  RELIANCE.NS    2  \n",
              "1  RELIANCE.NS    3  \n",
              "2  RELIANCE.NS    4  \n",
              "3  RELIANCE.NS    0  \n",
              "4  RELIANCE.NS    1  "
            ]
          },
          "execution_count": 5,
          "metadata": {},
          "output_type": "execute_result"
        }
      ],
      "source": [
        "ril_df_finrl.head()"
      ]
    },
    {
      "cell_type": "markdown",
      "metadata": {
        "id": "9kcOE5nbic6R"
      },
      "source": [
        "## Data for the chosen tickers"
      ]
    },
    {
      "cell_type": "code",
      "execution_count": 6,
      "metadata": {
        "colab": {
          "base_uri": "https://localhost:8080/"
        },
        "id": "FKBjtAo2uIq5",
        "outputId": "927f682a-9cc3-4c11-c3f1-094ae811af6b"
      },
      "outputs": [
        {
          "data": {
            "text/plain": [
              "['ASIANPAINT.NS',\n",
              " 'AXISBANK.NS',\n",
              " 'BAJFINANCE.NS',\n",
              " 'BAJAJFINSV.NS',\n",
              " 'BHARTIARTL.NS',\n",
              " 'HCLTECH.NS',\n",
              " 'HDFCBANK.NS',\n",
              " 'HINDUNILVR.NS',\n",
              " 'ICICIBANK.NS',\n",
              " 'INDUSINDBK.NS',\n",
              " 'INFY.NS',\n",
              " 'JSWSTEEL.NS',\n",
              " 'KOTAKBANK.NS',\n",
              " 'LT.NS',\n",
              " 'M&M.NS',\n",
              " 'MARUTI.NS',\n",
              " 'NESTLEIND.NS',\n",
              " 'NTPC.NS',\n",
              " 'POWERGRID.NS',\n",
              " 'RELIANCE.NS',\n",
              " 'SBIN.NS',\n",
              " 'SUNPHARMA.NS',\n",
              " 'TCS.NS',\n",
              " 'TATAMOTORS.NS',\n",
              " 'TATASTEEL.NS',\n",
              " 'TECHM.NS',\n",
              " 'TITAN.NS',\n",
              " 'ULTRACEMCO.NS',\n",
              " 'WIPRO.NS']"
            ]
          },
          "execution_count": 6,
          "metadata": {},
          "output_type": "execute_result"
        }
      ],
      "source": [
        "config_tickers.SENSEX_TICKER"
      ]
    },
    {
      "cell_type": "code",
      "execution_count": 7,
      "metadata": {
        "id": "9xTPG4Fhc-zL"
      },
      "outputs": [],
      "source": [
        "TRAIN_START_DATE = '2011-01-01'\n",
        "TRAIN_END_DATE = '2020-07-01'\n",
        "TRADE_START_DATE = '2020-07-01'\n",
        "TRADE_END_DATE = '2023-10-29'"
      ]
    },
    {
      "cell_type": "code",
      "execution_count": 8,
      "metadata": {
        "colab": {
          "base_uri": "https://localhost:8080/"
        },
        "id": "9LblMI8CO0F3",
        "outputId": "7be76385-50eb-4e8d-f2e5-1795d77b70ba"
      },
      "outputs": [
        {
          "name": "stderr",
          "output_type": "stream",
          "text": [
            "c:\\Program Files\\Python310\\lib\\site-packages\\yfinance\\utils.py:775: FutureWarning: The 'unit' keyword in TimedeltaIndex construction is deprecated and will be removed in a future version. Use pd.to_timedelta instead.\n",
            "  df.index += _pd.TimedeltaIndex(dst_error_hours, 'h')\n",
            "[*********************100%%**********************]  1 of 1 completed\n",
            "c:\\Program Files\\Python310\\lib\\site-packages\\yfinance\\utils.py:775: FutureWarning: The 'unit' keyword in TimedeltaIndex construction is deprecated and will be removed in a future version. Use pd.to_timedelta instead.\n",
            "  df.index += _pd.TimedeltaIndex(dst_error_hours, 'h')\n",
            "[*********************100%%**********************]  1 of 1 completed\n",
            "c:\\Program Files\\Python310\\lib\\site-packages\\yfinance\\utils.py:775: FutureWarning: The 'unit' keyword in TimedeltaIndex construction is deprecated and will be removed in a future version. Use pd.to_timedelta instead.\n",
            "  df.index += _pd.TimedeltaIndex(dst_error_hours, 'h')\n",
            "[*********************100%%**********************]  1 of 1 completed\n",
            "c:\\Program Files\\Python310\\lib\\site-packages\\yfinance\\utils.py:775: FutureWarning: The 'unit' keyword in TimedeltaIndex construction is deprecated and will be removed in a future version. Use pd.to_timedelta instead.\n",
            "  df.index += _pd.TimedeltaIndex(dst_error_hours, 'h')\n",
            "[*********************100%%**********************]  1 of 1 completed\n",
            "c:\\Program Files\\Python310\\lib\\site-packages\\yfinance\\utils.py:775: FutureWarning: The 'unit' keyword in TimedeltaIndex construction is deprecated and will be removed in a future version. Use pd.to_timedelta instead.\n",
            "  df.index += _pd.TimedeltaIndex(dst_error_hours, 'h')\n",
            "[*********************100%%**********************]  1 of 1 completed\n",
            "c:\\Program Files\\Python310\\lib\\site-packages\\yfinance\\utils.py:775: FutureWarning: The 'unit' keyword in TimedeltaIndex construction is deprecated and will be removed in a future version. Use pd.to_timedelta instead.\n",
            "  df.index += _pd.TimedeltaIndex(dst_error_hours, 'h')\n",
            "[*********************100%%**********************]  1 of 1 completed\n",
            "c:\\Program Files\\Python310\\lib\\site-packages\\yfinance\\utils.py:775: FutureWarning: The 'unit' keyword in TimedeltaIndex construction is deprecated and will be removed in a future version. Use pd.to_timedelta instead.\n",
            "  df.index += _pd.TimedeltaIndex(dst_error_hours, 'h')\n",
            "[*********************100%%**********************]  1 of 1 completed\n",
            "c:\\Program Files\\Python310\\lib\\site-packages\\yfinance\\utils.py:775: FutureWarning: The 'unit' keyword in TimedeltaIndex construction is deprecated and will be removed in a future version. Use pd.to_timedelta instead.\n",
            "  df.index += _pd.TimedeltaIndex(dst_error_hours, 'h')\n",
            "[*********************100%%**********************]  1 of 1 completed\n",
            "c:\\Program Files\\Python310\\lib\\site-packages\\yfinance\\utils.py:775: FutureWarning: The 'unit' keyword in TimedeltaIndex construction is deprecated and will be removed in a future version. Use pd.to_timedelta instead.\n",
            "  df.index += _pd.TimedeltaIndex(dst_error_hours, 'h')\n",
            "[*********************100%%**********************]  1 of 1 completed\n",
            "c:\\Program Files\\Python310\\lib\\site-packages\\yfinance\\utils.py:775: FutureWarning: The 'unit' keyword in TimedeltaIndex construction is deprecated and will be removed in a future version. Use pd.to_timedelta instead.\n",
            "  df.index += _pd.TimedeltaIndex(dst_error_hours, 'h')\n",
            "[*********************100%%**********************]  1 of 1 completed\n",
            "c:\\Program Files\\Python310\\lib\\site-packages\\yfinance\\utils.py:775: FutureWarning: The 'unit' keyword in TimedeltaIndex construction is deprecated and will be removed in a future version. Use pd.to_timedelta instead.\n",
            "  df.index += _pd.TimedeltaIndex(dst_error_hours, 'h')\n",
            "[*********************100%%**********************]  1 of 1 completed\n",
            "c:\\Program Files\\Python310\\lib\\site-packages\\yfinance\\utils.py:775: FutureWarning: The 'unit' keyword in TimedeltaIndex construction is deprecated and will be removed in a future version. Use pd.to_timedelta instead.\n",
            "  df.index += _pd.TimedeltaIndex(dst_error_hours, 'h')\n",
            "[*********************100%%**********************]  1 of 1 completed\n",
            "c:\\Program Files\\Python310\\lib\\site-packages\\yfinance\\utils.py:775: FutureWarning: The 'unit' keyword in TimedeltaIndex construction is deprecated and will be removed in a future version. Use pd.to_timedelta instead.\n",
            "  df.index += _pd.TimedeltaIndex(dst_error_hours, 'h')\n",
            "[*********************100%%**********************]  1 of 1 completed\n",
            "c:\\Program Files\\Python310\\lib\\site-packages\\yfinance\\utils.py:775: FutureWarning: The 'unit' keyword in TimedeltaIndex construction is deprecated and will be removed in a future version. Use pd.to_timedelta instead.\n",
            "  df.index += _pd.TimedeltaIndex(dst_error_hours, 'h')\n",
            "[*********************100%%**********************]  1 of 1 completed\n",
            "c:\\Program Files\\Python310\\lib\\site-packages\\yfinance\\utils.py:775: FutureWarning: The 'unit' keyword in TimedeltaIndex construction is deprecated and will be removed in a future version. Use pd.to_timedelta instead.\n",
            "  df.index += _pd.TimedeltaIndex(dst_error_hours, 'h')\n",
            "[*********************100%%**********************]  1 of 1 completed\n",
            "c:\\Program Files\\Python310\\lib\\site-packages\\yfinance\\utils.py:775: FutureWarning: The 'unit' keyword in TimedeltaIndex construction is deprecated and will be removed in a future version. Use pd.to_timedelta instead.\n",
            "  df.index += _pd.TimedeltaIndex(dst_error_hours, 'h')\n",
            "[*********************100%%**********************]  1 of 1 completed\n",
            "c:\\Program Files\\Python310\\lib\\site-packages\\yfinance\\utils.py:775: FutureWarning: The 'unit' keyword in TimedeltaIndex construction is deprecated and will be removed in a future version. Use pd.to_timedelta instead.\n",
            "  df.index += _pd.TimedeltaIndex(dst_error_hours, 'h')\n",
            "[*********************100%%**********************]  1 of 1 completed\n",
            "c:\\Program Files\\Python310\\lib\\site-packages\\yfinance\\utils.py:775: FutureWarning: The 'unit' keyword in TimedeltaIndex construction is deprecated and will be removed in a future version. Use pd.to_timedelta instead.\n",
            "  df.index += _pd.TimedeltaIndex(dst_error_hours, 'h')\n",
            "[*********************100%%**********************]  1 of 1 completed\n",
            "c:\\Program Files\\Python310\\lib\\site-packages\\yfinance\\utils.py:775: FutureWarning: The 'unit' keyword in TimedeltaIndex construction is deprecated and will be removed in a future version. Use pd.to_timedelta instead.\n",
            "  df.index += _pd.TimedeltaIndex(dst_error_hours, 'h')\n",
            "[*********************100%%**********************]  1 of 1 completed\n",
            "c:\\Program Files\\Python310\\lib\\site-packages\\yfinance\\utils.py:775: FutureWarning: The 'unit' keyword in TimedeltaIndex construction is deprecated and will be removed in a future version. Use pd.to_timedelta instead.\n",
            "  df.index += _pd.TimedeltaIndex(dst_error_hours, 'h')\n",
            "[*********************100%%**********************]  1 of 1 completed\n",
            "c:\\Program Files\\Python310\\lib\\site-packages\\yfinance\\utils.py:775: FutureWarning: The 'unit' keyword in TimedeltaIndex construction is deprecated and will be removed in a future version. Use pd.to_timedelta instead.\n",
            "  df.index += _pd.TimedeltaIndex(dst_error_hours, 'h')\n",
            "[*********************100%%**********************]  1 of 1 completed\n",
            "c:\\Program Files\\Python310\\lib\\site-packages\\yfinance\\utils.py:775: FutureWarning: The 'unit' keyword in TimedeltaIndex construction is deprecated and will be removed in a future version. Use pd.to_timedelta instead.\n",
            "  df.index += _pd.TimedeltaIndex(dst_error_hours, 'h')\n",
            "[*********************100%%**********************]  1 of 1 completed\n",
            "c:\\Program Files\\Python310\\lib\\site-packages\\yfinance\\utils.py:775: FutureWarning: The 'unit' keyword in TimedeltaIndex construction is deprecated and will be removed in a future version. Use pd.to_timedelta instead.\n",
            "  df.index += _pd.TimedeltaIndex(dst_error_hours, 'h')\n",
            "[*********************100%%**********************]  1 of 1 completed\n",
            "c:\\Program Files\\Python310\\lib\\site-packages\\yfinance\\utils.py:775: FutureWarning: The 'unit' keyword in TimedeltaIndex construction is deprecated and will be removed in a future version. Use pd.to_timedelta instead.\n",
            "  df.index += _pd.TimedeltaIndex(dst_error_hours, 'h')\n",
            "[*********************100%%**********************]  1 of 1 completed\n",
            "c:\\Program Files\\Python310\\lib\\site-packages\\yfinance\\utils.py:775: FutureWarning: The 'unit' keyword in TimedeltaIndex construction is deprecated and will be removed in a future version. Use pd.to_timedelta instead.\n",
            "  df.index += _pd.TimedeltaIndex(dst_error_hours, 'h')\n",
            "[*********************100%%**********************]  1 of 1 completed\n",
            "c:\\Program Files\\Python310\\lib\\site-packages\\yfinance\\utils.py:775: FutureWarning: The 'unit' keyword in TimedeltaIndex construction is deprecated and will be removed in a future version. Use pd.to_timedelta instead.\n",
            "  df.index += _pd.TimedeltaIndex(dst_error_hours, 'h')\n",
            "[*********************100%%**********************]  1 of 1 completed\n",
            "c:\\Program Files\\Python310\\lib\\site-packages\\yfinance\\utils.py:775: FutureWarning: The 'unit' keyword in TimedeltaIndex construction is deprecated and will be removed in a future version. Use pd.to_timedelta instead.\n",
            "  df.index += _pd.TimedeltaIndex(dst_error_hours, 'h')\n",
            "[*********************100%%**********************]  1 of 1 completed\n",
            "c:\\Program Files\\Python310\\lib\\site-packages\\yfinance\\utils.py:775: FutureWarning: The 'unit' keyword in TimedeltaIndex construction is deprecated and will be removed in a future version. Use pd.to_timedelta instead.\n",
            "  df.index += _pd.TimedeltaIndex(dst_error_hours, 'h')\n",
            "[*********************100%%**********************]  1 of 1 completed\n",
            "c:\\Program Files\\Python310\\lib\\site-packages\\yfinance\\utils.py:775: FutureWarning: The 'unit' keyword in TimedeltaIndex construction is deprecated and will be removed in a future version. Use pd.to_timedelta instead.\n",
            "  df.index += _pd.TimedeltaIndex(dst_error_hours, 'h')\n",
            "[*********************100%%**********************]  1 of 1 completed\n"
          ]
        },
        {
          "name": "stdout",
          "output_type": "stream",
          "text": [
            "Shape of DataFrame:  (91698, 8)\n"
          ]
        }
      ],
      "source": [
        "df_raw = YahooDownloader(start_date = TRAIN_START_DATE,\n",
        "                     end_date = TRADE_END_DATE,\n",
        "                     ticker_list = config_tickers.SENSEX_TICKER).fetch_data()"
      ]
    },
    {
      "cell_type": "code",
      "execution_count": 9,
      "metadata": {
        "colab": {
          "base_uri": "https://localhost:8080/",
          "height": 206
        },
        "id": "RD9cjHzt8X3A",
        "outputId": "051acda5-c8fd-440a-a5af-6be04cfdc018"
      },
      "outputs": [
        {
          "data": {
            "text/html": [
              "<div>\n",
              "<style scoped>\n",
              "    .dataframe tbody tr th:only-of-type {\n",
              "        vertical-align: middle;\n",
              "    }\n",
              "\n",
              "    .dataframe tbody tr th {\n",
              "        vertical-align: top;\n",
              "    }\n",
              "\n",
              "    .dataframe thead th {\n",
              "        text-align: right;\n",
              "    }\n",
              "</style>\n",
              "<table border=\"1\" class=\"dataframe\">\n",
              "  <thead>\n",
              "    <tr style=\"text-align: right;\">\n",
              "      <th></th>\n",
              "      <th>date</th>\n",
              "      <th>open</th>\n",
              "      <th>high</th>\n",
              "      <th>low</th>\n",
              "      <th>close</th>\n",
              "      <th>volume</th>\n",
              "      <th>tic</th>\n",
              "      <th>day</th>\n",
              "    </tr>\n",
              "  </thead>\n",
              "  <tbody>\n",
              "    <tr>\n",
              "      <th>0</th>\n",
              "      <td>2011-01-03</td>\n",
              "      <td>289.799988</td>\n",
              "      <td>293.739990</td>\n",
              "      <td>286.005005</td>\n",
              "      <td>259.076111</td>\n",
              "      <td>454300</td>\n",
              "      <td>ASIANPAINT.NS</td>\n",
              "      <td>0</td>\n",
              "    </tr>\n",
              "    <tr>\n",
              "      <th>1</th>\n",
              "      <td>2011-01-03</td>\n",
              "      <td>273.000000</td>\n",
              "      <td>274.399994</td>\n",
              "      <td>268.459991</td>\n",
              "      <td>251.916641</td>\n",
              "      <td>5266100</td>\n",
              "      <td>AXISBANK.NS</td>\n",
              "      <td>0</td>\n",
              "    </tr>\n",
              "    <tr>\n",
              "      <th>2</th>\n",
              "      <td>2011-01-03</td>\n",
              "      <td>45.497864</td>\n",
              "      <td>46.357517</td>\n",
              "      <td>45.478214</td>\n",
              "      <td>45.569965</td>\n",
              "      <td>120767</td>\n",
              "      <td>BAJAJFINSV.NS</td>\n",
              "      <td>0</td>\n",
              "    </tr>\n",
              "    <tr>\n",
              "      <th>3</th>\n",
              "      <td>2011-01-03</td>\n",
              "      <td>69.832405</td>\n",
              "      <td>69.832405</td>\n",
              "      <td>68.341026</td>\n",
              "      <td>63.384369</td>\n",
              "      <td>129932</td>\n",
              "      <td>BAJFINANCE.NS</td>\n",
              "      <td>0</td>\n",
              "    </tr>\n",
              "    <tr>\n",
              "      <th>4</th>\n",
              "      <td>2011-01-03</td>\n",
              "      <td>325.263733</td>\n",
              "      <td>328.958893</td>\n",
              "      <td>319.721008</td>\n",
              "      <td>303.569275</td>\n",
              "      <td>3283719</td>\n",
              "      <td>BHARTIARTL.NS</td>\n",
              "      <td>0</td>\n",
              "    </tr>\n",
              "  </tbody>\n",
              "</table>\n",
              "</div>"
            ],
            "text/plain": [
              "         date        open        high         low       close   volume  \\\n",
              "0  2011-01-03  289.799988  293.739990  286.005005  259.076111   454300   \n",
              "1  2011-01-03  273.000000  274.399994  268.459991  251.916641  5266100   \n",
              "2  2011-01-03   45.497864   46.357517   45.478214   45.569965   120767   \n",
              "3  2011-01-03   69.832405   69.832405   68.341026   63.384369   129932   \n",
              "4  2011-01-03  325.263733  328.958893  319.721008  303.569275  3283719   \n",
              "\n",
              "             tic  day  \n",
              "0  ASIANPAINT.NS    0  \n",
              "1    AXISBANK.NS    0  \n",
              "2  BAJAJFINSV.NS    0  \n",
              "3  BAJFINANCE.NS    0  \n",
              "4  BHARTIARTL.NS    0  "
            ]
          },
          "execution_count": 9,
          "metadata": {},
          "output_type": "execute_result"
        }
      ],
      "source": [
        "df_raw.head()"
      ]
    },
    {
      "cell_type": "markdown",
      "metadata": {
        "id": "uqC6c40Zh1iH"
      },
      "source": [
        "# Part 3: Preprocess Data\n",
        "We need to check for missing data and do feature engineering to convert the data point into a state.\n",
        "* **Adding technical indicators**. In practical trading, various information needs to be taken into account, such as historical prices, current holding shares, technical indicators, etc. Here, we demonstrate two trend-following technical indicators: MACD and RSI.\n",
        "* **Adding turbulence index**. Risk-aversion reflects whether an investor prefers to protect the capital. It also influences one's trading strategy when facing different market volatility level. To control the risk in a worst-case scenario, such as financial crisis of 2007–2008, FinRL employs the turbulence index that measures extreme fluctuation of asset price."
      ]
    },
    {
      "cell_type": "markdown",
      "metadata": {
        "id": "1lQxLyWpdbAd"
      },
      "source": [
        "Hear let's take **MACD** as an example. Moving average convergence/divergence (MACD) is one of the most commonly used indicator showing bull and bear market. Its calculation is based on EMA (Exponential Moving Average indicator, measuring trend direction over a period of time.)"
      ]
    },
    {
      "cell_type": "code",
      "execution_count": 10,
      "metadata": {
        "colab": {
          "base_uri": "https://localhost:8080/"
        },
        "id": "PmKP-1ii3RLS",
        "outputId": "d514cf1a-8609-402e-ad58-df5f9100ec85"
      },
      "outputs": [
        {
          "name": "stdout",
          "output_type": "stream",
          "text": [
            "Successfully added technical indicators\n"
          ]
        },
        {
          "name": "stderr",
          "output_type": "stream",
          "text": [
            "c:\\Program Files\\Python310\\lib\\site-packages\\yfinance\\utils.py:775: FutureWarning: The 'unit' keyword in TimedeltaIndex construction is deprecated and will be removed in a future version. Use pd.to_timedelta instead.\n",
            "  df.index += _pd.TimedeltaIndex(dst_error_hours, 'h')\n",
            "[*********************100%%**********************]  1 of 1 completed\n"
          ]
        },
        {
          "name": "stdout",
          "output_type": "stream",
          "text": [
            "Shape of DataFrame:  (3226, 8)\n",
            "Successfully added vix\n",
            "Successfully added turbulence index\n"
          ]
        }
      ],
      "source": [
        "fe = FeatureEngineer(use_technical_indicator=True,\n",
        "                     tech_indicator_list = INDICATORS,\n",
        "                     use_vix=True,\n",
        "                     use_turbulence=True,\n",
        "                     user_defined_feature = False)\n",
        "\n",
        "processed = fe.preprocess_data(df_raw)"
      ]
    },
    {
      "cell_type": "code",
      "execution_count": 11,
      "metadata": {
        "id": "Kixon2tR3RLT"
      },
      "outputs": [],
      "source": [
        "list_ticker = processed[\"tic\"].unique().tolist()\n",
        "list_date = list(pd.date_range(processed['date'].min(),processed['date'].max()).astype(str))\n",
        "combination = list(itertools.product(list_date,list_ticker))\n",
        "\n",
        "processed_full = pd.DataFrame(combination,columns=[\"date\",\"tic\"]).merge(processed,on=[\"date\",\"tic\"],how=\"left\")\n",
        "processed_full = processed_full[processed_full['date'].isin(processed['date'])]\n",
        "processed_full = processed_full.sort_values(['date','tic'])\n",
        "\n",
        "processed_full = processed_full.fillna(0)"
      ]
    },
    {
      "cell_type": "code",
      "execution_count": 12,
      "metadata": {
        "colab": {
          "base_uri": "https://localhost:8080/",
          "height": 357
        },
        "id": "HwKJNWJSabNK",
        "outputId": "16c8080e-91b0-4e8d-9a09-44939ac69801"
      },
      "outputs": [
        {
          "data": {
            "text/html": [
              "<div>\n",
              "<style scoped>\n",
              "    .dataframe tbody tr th:only-of-type {\n",
              "        vertical-align: middle;\n",
              "    }\n",
              "\n",
              "    .dataframe tbody tr th {\n",
              "        vertical-align: top;\n",
              "    }\n",
              "\n",
              "    .dataframe thead th {\n",
              "        text-align: right;\n",
              "    }\n",
              "</style>\n",
              "<table border=\"1\" class=\"dataframe\">\n",
              "  <thead>\n",
              "    <tr style=\"text-align: right;\">\n",
              "      <th></th>\n",
              "      <th>date</th>\n",
              "      <th>tic</th>\n",
              "      <th>open</th>\n",
              "      <th>high</th>\n",
              "      <th>low</th>\n",
              "      <th>close</th>\n",
              "      <th>volume</th>\n",
              "      <th>day</th>\n",
              "      <th>macd</th>\n",
              "      <th>boll_ub</th>\n",
              "      <th>boll_lb</th>\n",
              "      <th>rsi_30</th>\n",
              "      <th>cci_30</th>\n",
              "      <th>dx_30</th>\n",
              "      <th>close_30_sma</th>\n",
              "      <th>close_60_sma</th>\n",
              "      <th>vix</th>\n",
              "      <th>turbulence</th>\n",
              "    </tr>\n",
              "  </thead>\n",
              "  <tbody>\n",
              "    <tr>\n",
              "      <th>0</th>\n",
              "      <td>2011-01-03</td>\n",
              "      <td>ASIANPAINT.NS</td>\n",
              "      <td>289.799988</td>\n",
              "      <td>293.739990</td>\n",
              "      <td>286.005005</td>\n",
              "      <td>259.076111</td>\n",
              "      <td>454300.0</td>\n",
              "      <td>0.0</td>\n",
              "      <td>0.0</td>\n",
              "      <td>262.236018</td>\n",
              "      <td>252.459783</td>\n",
              "      <td>0.0</td>\n",
              "      <td>-66.666667</td>\n",
              "      <td>100.0</td>\n",
              "      <td>259.076111</td>\n",
              "      <td>259.076111</td>\n",
              "      <td>17.610001</td>\n",
              "      <td>0.0</td>\n",
              "    </tr>\n",
              "    <tr>\n",
              "      <th>1</th>\n",
              "      <td>2011-01-03</td>\n",
              "      <td>AXISBANK.NS</td>\n",
              "      <td>273.000000</td>\n",
              "      <td>274.399994</td>\n",
              "      <td>268.459991</td>\n",
              "      <td>251.916641</td>\n",
              "      <td>5266100.0</td>\n",
              "      <td>0.0</td>\n",
              "      <td>0.0</td>\n",
              "      <td>262.236018</td>\n",
              "      <td>252.459783</td>\n",
              "      <td>0.0</td>\n",
              "      <td>-66.666667</td>\n",
              "      <td>100.0</td>\n",
              "      <td>251.916641</td>\n",
              "      <td>251.916641</td>\n",
              "      <td>17.610001</td>\n",
              "      <td>0.0</td>\n",
              "    </tr>\n",
              "    <tr>\n",
              "      <th>2</th>\n",
              "      <td>2011-01-03</td>\n",
              "      <td>BAJAJFINSV.NS</td>\n",
              "      <td>45.497864</td>\n",
              "      <td>46.357517</td>\n",
              "      <td>45.478214</td>\n",
              "      <td>45.569965</td>\n",
              "      <td>120767.0</td>\n",
              "      <td>0.0</td>\n",
              "      <td>0.0</td>\n",
              "      <td>262.236018</td>\n",
              "      <td>252.459783</td>\n",
              "      <td>0.0</td>\n",
              "      <td>-66.666667</td>\n",
              "      <td>100.0</td>\n",
              "      <td>45.569965</td>\n",
              "      <td>45.569965</td>\n",
              "      <td>17.610001</td>\n",
              "      <td>0.0</td>\n",
              "    </tr>\n",
              "    <tr>\n",
              "      <th>3</th>\n",
              "      <td>2011-01-03</td>\n",
              "      <td>BAJFINANCE.NS</td>\n",
              "      <td>69.832405</td>\n",
              "      <td>69.832405</td>\n",
              "      <td>68.341026</td>\n",
              "      <td>63.384369</td>\n",
              "      <td>129932.0</td>\n",
              "      <td>0.0</td>\n",
              "      <td>0.0</td>\n",
              "      <td>262.236018</td>\n",
              "      <td>252.459783</td>\n",
              "      <td>0.0</td>\n",
              "      <td>-66.666667</td>\n",
              "      <td>100.0</td>\n",
              "      <td>63.384369</td>\n",
              "      <td>63.384369</td>\n",
              "      <td>17.610001</td>\n",
              "      <td>0.0</td>\n",
              "    </tr>\n",
              "    <tr>\n",
              "      <th>4</th>\n",
              "      <td>2011-01-03</td>\n",
              "      <td>BHARTIARTL.NS</td>\n",
              "      <td>325.263733</td>\n",
              "      <td>328.958893</td>\n",
              "      <td>319.721008</td>\n",
              "      <td>303.569275</td>\n",
              "      <td>3283719.0</td>\n",
              "      <td>0.0</td>\n",
              "      <td>0.0</td>\n",
              "      <td>262.236018</td>\n",
              "      <td>252.459783</td>\n",
              "      <td>0.0</td>\n",
              "      <td>-66.666667</td>\n",
              "      <td>100.0</td>\n",
              "      <td>303.569275</td>\n",
              "      <td>303.569275</td>\n",
              "      <td>17.610001</td>\n",
              "      <td>0.0</td>\n",
              "    </tr>\n",
              "  </tbody>\n",
              "</table>\n",
              "</div>"
            ],
            "text/plain": [
              "         date            tic        open        high         low       close  \\\n",
              "0  2011-01-03  ASIANPAINT.NS  289.799988  293.739990  286.005005  259.076111   \n",
              "1  2011-01-03    AXISBANK.NS  273.000000  274.399994  268.459991  251.916641   \n",
              "2  2011-01-03  BAJAJFINSV.NS   45.497864   46.357517   45.478214   45.569965   \n",
              "3  2011-01-03  BAJFINANCE.NS   69.832405   69.832405   68.341026   63.384369   \n",
              "4  2011-01-03  BHARTIARTL.NS  325.263733  328.958893  319.721008  303.569275   \n",
              "\n",
              "      volume  day  macd     boll_ub     boll_lb  rsi_30     cci_30  dx_30  \\\n",
              "0   454300.0  0.0   0.0  262.236018  252.459783     0.0 -66.666667  100.0   \n",
              "1  5266100.0  0.0   0.0  262.236018  252.459783     0.0 -66.666667  100.0   \n",
              "2   120767.0  0.0   0.0  262.236018  252.459783     0.0 -66.666667  100.0   \n",
              "3   129932.0  0.0   0.0  262.236018  252.459783     0.0 -66.666667  100.0   \n",
              "4  3283719.0  0.0   0.0  262.236018  252.459783     0.0 -66.666667  100.0   \n",
              "\n",
              "   close_30_sma  close_60_sma        vix  turbulence  \n",
              "0    259.076111    259.076111  17.610001         0.0  \n",
              "1    251.916641    251.916641  17.610001         0.0  \n",
              "2     45.569965     45.569965  17.610001         0.0  \n",
              "3     63.384369     63.384369  17.610001         0.0  \n",
              "4    303.569275    303.569275  17.610001         0.0  "
            ]
          },
          "execution_count": 12,
          "metadata": {},
          "output_type": "execute_result"
        }
      ],
      "source": [
        "processed_full.head()"
      ]
    },
    {
      "cell_type": "markdown",
      "metadata": {
        "id": "ydLNxwdPIJhW"
      },
      "source": [
        "# Part 4: Save the Data"
      ]
    },
    {
      "cell_type": "markdown",
      "metadata": {
        "id": "VbMDnfukILc_"
      },
      "source": [
        "### Split the data for training and trading"
      ]
    },
    {
      "cell_type": "code",
      "execution_count": 13,
      "metadata": {
        "colab": {
          "base_uri": "https://localhost:8080/"
        },
        "id": "iEiXDdUhZP7R",
        "outputId": "554b1c09-6d6f-48fb-c724-351b40a2ddaf"
      },
      "outputs": [
        {
          "name": "stdout",
          "output_type": "stream",
          "text": [
            "65714\n",
            "23200\n"
          ]
        }
      ],
      "source": [
        "train = data_split(processed_full, TRAIN_START_DATE,TRAIN_END_DATE)\n",
        "trade = data_split(processed_full, TRADE_START_DATE,TRADE_END_DATE)\n",
        "print(len(train))\n",
        "print(len(trade))"
      ]
    },
    {
      "cell_type": "markdown",
      "metadata": {
        "id": "DflbzEV8IRhF"
      },
      "source": [
        "### Save data to csv file"
      ]
    },
    {
      "cell_type": "markdown",
      "metadata": {
        "id": "Tud3IZDzIUpd"
      },
      "source": [
        "For Colab users, you can open the virtual directory in colab and manually download the files.\n",
        "\n",
        "For users running on your local environment, the csv files should be at the same directory of this notebook."
      ]
    },
    {
      "cell_type": "code",
      "execution_count": 18,
      "metadata": {
        "id": "j2c12CpfHEjE"
      },
      "outputs": [],
      "source": [
        "train.to_csv('train_data.csv')\n",
        "trade.to_csv('trade_data.csv')"
      ]
    }
  ],
  "metadata": {
    "colab": {
      "provenance": []
    },
    "kernelspec": {
      "display_name": "Python 3",
      "name": "python3"
    },
    "language_info": {
      "codemirror_mode": {
        "name": "ipython",
        "version": 3
      },
      "file_extension": ".py",
      "mimetype": "text/x-python",
      "name": "python",
      "nbconvert_exporter": "python",
      "pygments_lexer": "ipython3",
      "version": "3.10.0"
    }
  },
  "nbformat": 4,
  "nbformat_minor": 0
}

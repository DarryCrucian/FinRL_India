{
 "cells": [
  {
   "cell_type": "markdown",
   "metadata": {
    "id": "Sy8r7_g5WjAT"
   },
   "source": [
    "# Stock NeurIPS2018 Part 1. Data\n",
    "This series is a reproduction of paper *the process in the paper Practical Deep Reinforcement Learning Approach for Stock Trading*. \n",
    "\n",
    "This is the first part of the NeurIPS2018 series, introducing how to use FinRL to fetch and process data that we need for ML/RL trading.\n",
    "\n",
    "Other demos can be found at the repo of [FinRL-Tutorials]((https://github.com/AI4Finance-Foundation/FinRL-Tutorials))."
   ]
  },
  {
   "cell_type": "markdown",
   "metadata": {
    "id": "2uH1KXctgnoJ"
   },
   "source": [
    "# Part 1. Install Packages"
   ]
  },
  {
   "cell_type": "code",
   "execution_count": 1,
   "metadata": {
    "id": "a2oD49e_N_05"
   },
   "outputs": [
    {
     "name": "stdout",
     "output_type": "stream",
     "text": [
      "Defaulting to user installation because normal site-packages is not writeable\n",
      "Requirement already satisfied: swig in c:\\users\\aryam\\appdata\\roaming\\python\\python310\\site-packages (4.2.0)\n",
      "Defaulting to user installation because normal site-packages is not writeable\n",
      "Requirement already satisfied: wrds in c:\\programdata\\anaconda3\\envs\\py310\\lib\\site-packages (3.2.0)\n",
      "Requirement already satisfied: numpy<1.27,>=1.26 in c:\\users\\aryam\\appdata\\roaming\\python\\python310\\site-packages (from wrds) (1.26.4)\n",
      "Requirement already satisfied: packaging<23.3 in c:\\users\\aryam\\appdata\\roaming\\python\\python310\\site-packages (from wrds) (23.2)\n",
      "Requirement already satisfied: pandas<2.3,>=2.2 in c:\\users\\aryam\\appdata\\roaming\\python\\python310\\site-packages (from wrds) (2.2.0)\n",
      "Requirement already satisfied: psycopg2-binary<2.10,>=2.9 in c:\\programdata\\anaconda3\\envs\\py310\\lib\\site-packages (from wrds) (2.9.9)\n",
      "Requirement already satisfied: scipy<1.13,>=1.12 in c:\\programdata\\anaconda3\\envs\\py310\\lib\\site-packages (from wrds) (1.12.0)\n",
      "Requirement already satisfied: sqlalchemy<2.1,>=2 in c:\\programdata\\anaconda3\\envs\\py310\\lib\\site-packages (from wrds) (2.0.26)\n",
      "Requirement already satisfied: python-dateutil>=2.8.2 in c:\\users\\aryam\\appdata\\roaming\\python\\python310\\site-packages (from pandas<2.3,>=2.2->wrds) (2.8.2)\n",
      "Requirement already satisfied: pytz>=2020.1 in c:\\users\\aryam\\appdata\\roaming\\python\\python310\\site-packages (from pandas<2.3,>=2.2->wrds) (2024.1)\n",
      "Requirement already satisfied: tzdata>=2022.7 in c:\\users\\aryam\\appdata\\roaming\\python\\python310\\site-packages (from pandas<2.3,>=2.2->wrds) (2023.4)\n",
      "Requirement already satisfied: typing-extensions>=4.6.0 in c:\\users\\aryam\\appdata\\roaming\\python\\python310\\site-packages (from sqlalchemy<2.1,>=2->wrds) (4.9.0)\n",
      "Requirement already satisfied: greenlet!=0.4.17 in c:\\users\\aryam\\appdata\\roaming\\python\\python310\\site-packages (from sqlalchemy<2.1,>=2->wrds) (3.0.3)\n",
      "Requirement already satisfied: six>=1.5 in c:\\users\\aryam\\appdata\\roaming\\python\\python310\\site-packages (from python-dateutil>=2.8.2->pandas<2.3,>=2.2->wrds) (1.16.0)\n",
      "Defaulting to user installation because normal site-packages is not writeable\n",
      "Requirement already satisfied: pyportfolioopt in c:\\programdata\\anaconda3\\envs\\py310\\lib\\site-packages (1.5.5)\n",
      "Requirement already satisfied: cvxpy<2.0.0,>=1.1.19 in c:\\programdata\\anaconda3\\envs\\py310\\lib\\site-packages (from pyportfolioopt) (1.4.2)\n",
      "Requirement already satisfied: numpy<2.0.0,>=1.22.4 in c:\\users\\aryam\\appdata\\roaming\\python\\python310\\site-packages (from pyportfolioopt) (1.26.4)\n",
      "Requirement already satisfied: pandas>=0.19 in c:\\users\\aryam\\appdata\\roaming\\python\\python310\\site-packages (from pyportfolioopt) (2.2.0)\n",
      "Requirement already satisfied: scipy<2.0,>=1.3 in c:\\programdata\\anaconda3\\envs\\py310\\lib\\site-packages (from pyportfolioopt) (1.12.0)\n",
      "Requirement already satisfied: osqp>=0.6.2 in c:\\programdata\\anaconda3\\envs\\py310\\lib\\site-packages (from cvxpy<2.0.0,>=1.1.19->pyportfolioopt) (0.6.4)\n",
      "Requirement already satisfied: ecos>=2 in c:\\users\\aryam\\appdata\\roaming\\python\\python310\\site-packages (from cvxpy<2.0.0,>=1.1.19->pyportfolioopt) (2.0.13)\n",
      "Requirement already satisfied: clarabel>=0.5.0 in c:\\users\\aryam\\appdata\\roaming\\python\\python310\\site-packages (from cvxpy<2.0.0,>=1.1.19->pyportfolioopt) (0.6.0)\n",
      "Requirement already satisfied: scs>=3.0 in c:\\users\\aryam\\appdata\\roaming\\python\\python310\\site-packages (from cvxpy<2.0.0,>=1.1.19->pyportfolioopt) (3.2.4.post1)\n",
      "Requirement already satisfied: pybind11 in c:\\users\\aryam\\appdata\\roaming\\python\\python310\\site-packages (from cvxpy<2.0.0,>=1.1.19->pyportfolioopt) (2.11.1)\n",
      "Requirement already satisfied: python-dateutil>=2.8.2 in c:\\users\\aryam\\appdata\\roaming\\python\\python310\\site-packages (from pandas>=0.19->pyportfolioopt) (2.8.2)\n",
      "Requirement already satisfied: pytz>=2020.1 in c:\\users\\aryam\\appdata\\roaming\\python\\python310\\site-packages (from pandas>=0.19->pyportfolioopt) (2024.1)\n",
      "Requirement already satisfied: tzdata>=2022.7 in c:\\users\\aryam\\appdata\\roaming\\python\\python310\\site-packages (from pandas>=0.19->pyportfolioopt) (2023.4)\n",
      "Requirement already satisfied: qdldl in c:\\users\\aryam\\appdata\\roaming\\python\\python310\\site-packages (from osqp>=0.6.2->cvxpy<2.0.0,>=1.1.19->pyportfolioopt) (0.1.7.post0)\n",
      "Requirement already satisfied: six>=1.5 in c:\\users\\aryam\\appdata\\roaming\\python\\python310\\site-packages (from python-dateutil>=2.8.2->pandas>=0.19->pyportfolioopt) (1.16.0)\n",
      "Defaulting to user installation because normal site-packages is not writeable\n",
      "Collecting git+https://github.com/AI4Finance-Foundation/FinRL.git\n",
      "  Cloning https://github.com/AI4Finance-Foundation/FinRL.git to c:\\users\\aryam\\appdata\\local\\temp\\pip-req-build-3uwrbt29\n",
      "  Resolved https://github.com/AI4Finance-Foundation/FinRL.git to commit fcf0d2197e0ff8fcc9b9ffb4bbab083a2deb61a6\n",
      "  Installing build dependencies: started\n",
      "  Installing build dependencies: finished with status 'done'\n",
      "  Getting requirements to build wheel: started\n",
      "  Getting requirements to build wheel: finished with status 'done'\n",
      "  Preparing metadata (pyproject.toml): started\n",
      "  Preparing metadata (pyproject.toml): finished with status 'done'\n",
      "Collecting elegantrl@ git+https://github.com/AI4Finance-Foundation/ElegantRL.git#egg=elegantrl (from finrl==0.3.6)\n",
      "  Cloning https://github.com/AI4Finance-Foundation/ElegantRL.git to c:\\users\\aryam\\appdata\\local\\temp\\pip-install-d0e26z9i\\elegantrl_54d88fe1a0034e5aabc0707f54b72bed\n",
      "  Resolved https://github.com/AI4Finance-Foundation/ElegantRL.git to commit b4b9d662b9f9cb7cc368ac2b1036b5119eb20be4\n",
      "  Preparing metadata (setup.py): started\n",
      "  Preparing metadata (setup.py): finished with status 'done'\n",
      "Requirement already satisfied: alpaca-trade-api<4,>=3 in c:\\programdata\\anaconda3\\envs\\py310\\lib\\site-packages (from finrl==0.3.6) (3.2.0)\n",
      "Requirement already satisfied: ccxt<4,>=3 in c:\\programdata\\anaconda3\\envs\\py310\\lib\\site-packages (from finrl==0.3.6) (3.1.60)\n",
      "Requirement already satisfied: exchange-calendars<5,>=4 in c:\\programdata\\anaconda3\\envs\\py310\\lib\\site-packages (from finrl==0.3.6) (4.5.2)\n",
      "Requirement already satisfied: jqdatasdk<2,>=1 in c:\\programdata\\anaconda3\\envs\\py310\\lib\\site-packages (from finrl==0.3.6) (1.9.2)\n",
      "Requirement already satisfied: pyfolio<0.10,>=0.9 in c:\\programdata\\anaconda3\\envs\\py310\\lib\\site-packages (from finrl==0.3.6) (0.9.2)\n",
      "Requirement already satisfied: pyportfolioopt<2,>=1 in c:\\programdata\\anaconda3\\envs\\py310\\lib\\site-packages (from finrl==0.3.6) (1.5.5)\n",
      "Requirement already satisfied: ray<3,>=2 in c:\\programdata\\anaconda3\\envs\\py310\\lib\\site-packages (from ray[default,tune]<3,>=2->finrl==0.3.6) (2.9.2)\n",
      "Requirement already satisfied: scikit-learn<2,>=1 in c:\\programdata\\anaconda3\\envs\\py310\\lib\\site-packages (from finrl==0.3.6) (1.4.0)\n",
      "Requirement already satisfied: stable-baselines3>=2.0.0a5 in c:\\programdata\\anaconda3\\envs\\py310\\lib\\site-packages (from stable-baselines3[extra]>=2.0.0a5->finrl==0.3.6) (2.3.0a1)\n",
      "Requirement already satisfied: stockstats<0.6,>=0.5 in c:\\programdata\\anaconda3\\envs\\py310\\lib\\site-packages (from finrl==0.3.6) (0.5.4)\n",
      "Requirement already satisfied: wrds<4,>=3 in c:\\programdata\\anaconda3\\envs\\py310\\lib\\site-packages (from finrl==0.3.6) (3.2.0)\n",
      "Requirement already satisfied: yfinance<0.3,>=0.2 in c:\\programdata\\anaconda3\\envs\\py310\\lib\\site-packages (from finrl==0.3.6) (0.2.36)\n",
      "Requirement already satisfied: pandas>=0.18.1 in c:\\users\\aryam\\appdata\\roaming\\python\\python310\\site-packages (from alpaca-trade-api<4,>=3->finrl==0.3.6) (2.2.0)\n",
      "Requirement already satisfied: numpy>=1.11.1 in c:\\users\\aryam\\appdata\\roaming\\python\\python310\\site-packages (from alpaca-trade-api<4,>=3->finrl==0.3.6) (1.26.4)\n",
      "Requirement already satisfied: requests<3,>2 in c:\\users\\aryam\\appdata\\roaming\\python\\python310\\site-packages (from alpaca-trade-api<4,>=3->finrl==0.3.6) (2.31.0)\n",
      "Requirement already satisfied: urllib3<2,>1.24 in c:\\users\\aryam\\appdata\\roaming\\python\\python310\\site-packages (from alpaca-trade-api<4,>=3->finrl==0.3.6) (1.26.18)\n",
      "Requirement already satisfied: websocket-client<2,>=0.56.0 in c:\\programdata\\anaconda3\\envs\\py310\\lib\\site-packages (from alpaca-trade-api<4,>=3->finrl==0.3.6) (0.58.0)\n",
      "Requirement already satisfied: websockets<11,>=9.0 in c:\\programdata\\anaconda3\\envs\\py310\\lib\\site-packages (from alpaca-trade-api<4,>=3->finrl==0.3.6) (10.4)\n",
      "Requirement already satisfied: msgpack==1.0.3 in c:\\users\\aryam\\appdata\\roaming\\python\\python310\\site-packages (from alpaca-trade-api<4,>=3->finrl==0.3.6) (1.0.3)\n",
      "Requirement already satisfied: aiohttp<4,>=3.8.3 in c:\\programdata\\anaconda3\\envs\\py310\\lib\\site-packages (from alpaca-trade-api<4,>=3->finrl==0.3.6) (3.9.3)\n",
      "Requirement already satisfied: PyYAML==6.0.1 in c:\\users\\aryam\\appdata\\roaming\\python\\python310\\site-packages (from alpaca-trade-api<4,>=3->finrl==0.3.6) (6.0.1)\n",
      "Requirement already satisfied: deprecation==2.1.0 in c:\\programdata\\anaconda3\\envs\\py310\\lib\\site-packages (from alpaca-trade-api<4,>=3->finrl==0.3.6) (2.1.0)\n",
      "Requirement already satisfied: packaging in c:\\users\\aryam\\appdata\\roaming\\python\\python310\\site-packages (from deprecation==2.1.0->alpaca-trade-api<4,>=3->finrl==0.3.6) (23.2)\n",
      "Requirement already satisfied: setuptools>=60.9.0 in c:\\users\\aryam\\appdata\\roaming\\python\\python310\\site-packages (from ccxt<4,>=3->finrl==0.3.6) (69.0.3)\n",
      "Requirement already satisfied: certifi>=2018.1.18 in c:\\users\\aryam\\appdata\\roaming\\python\\python310\\site-packages (from ccxt<4,>=3->finrl==0.3.6) (2024.2.2)\n",
      "Requirement already satisfied: cryptography>=2.6.1 in c:\\programdata\\anaconda3\\envs\\py310\\lib\\site-packages (from ccxt<4,>=3->finrl==0.3.6) (42.0.2)\n",
      "Requirement already satisfied: aiodns>=1.1.1 in c:\\programdata\\anaconda3\\envs\\py310\\lib\\site-packages (from ccxt<4,>=3->finrl==0.3.6) (3.1.1)\n",
      "Requirement already satisfied: yarl>=1.7.2 in c:\\users\\aryam\\appdata\\roaming\\python\\python310\\site-packages (from ccxt<4,>=3->finrl==0.3.6) (1.9.4)\n",
      "Requirement already satisfied: pyluach in c:\\programdata\\anaconda3\\envs\\py310\\lib\\site-packages (from exchange-calendars<5,>=4->finrl==0.3.6) (2.2.0)\n",
      "Requirement already satisfied: toolz in c:\\programdata\\anaconda3\\envs\\py310\\lib\\site-packages (from exchange-calendars<5,>=4->finrl==0.3.6) (0.12.1)\n",
      "Requirement already satisfied: tzdata in c:\\users\\aryam\\appdata\\roaming\\python\\python310\\site-packages (from exchange-calendars<5,>=4->finrl==0.3.6) (2023.4)\n",
      "Requirement already satisfied: korean-lunar-calendar in c:\\programdata\\anaconda3\\envs\\py310\\lib\\site-packages (from exchange-calendars<5,>=4->finrl==0.3.6) (0.3.1)\n",
      "Requirement already satisfied: six in c:\\users\\aryam\\appdata\\roaming\\python\\python310\\site-packages (from jqdatasdk<2,>=1->finrl==0.3.6) (1.16.0)\n",
      "Requirement already satisfied: SQLAlchemy>=1.2.8 in c:\\programdata\\anaconda3\\envs\\py310\\lib\\site-packages (from jqdatasdk<2,>=1->finrl==0.3.6) (2.0.26)\n",
      "Requirement already satisfied: thriftpy2>=0.3.9 in c:\\programdata\\anaconda3\\envs\\py310\\lib\\site-packages (from jqdatasdk<2,>=1->finrl==0.3.6) (0.4.17)\n",
      "Requirement already satisfied: pymysql>=0.7.6 in c:\\programdata\\anaconda3\\envs\\py310\\lib\\site-packages (from jqdatasdk<2,>=1->finrl==0.3.6) (1.1.0)\n",
      "Requirement already satisfied: ipython>=3.2.3 in c:\\programdata\\anaconda3\\envs\\py310\\lib\\site-packages (from pyfolio<0.10,>=0.9->finrl==0.3.6) (8.20.0)\n",
      "Requirement already satisfied: matplotlib>=1.4.0 in c:\\users\\aryam\\appdata\\roaming\\python\\python310\\site-packages (from pyfolio<0.10,>=0.9->finrl==0.3.6) (3.8.2)\n",
      "Requirement already satisfied: pytz>=2014.10 in c:\\users\\aryam\\appdata\\roaming\\python\\python310\\site-packages (from pyfolio<0.10,>=0.9->finrl==0.3.6) (2024.1)\n",
      "Requirement already satisfied: scipy>=0.14.0 in c:\\programdata\\anaconda3\\envs\\py310\\lib\\site-packages (from pyfolio<0.10,>=0.9->finrl==0.3.6) (1.12.0)\n",
      "Requirement already satisfied: seaborn>=0.7.1 in c:\\programdata\\anaconda3\\envs\\py310\\lib\\site-packages (from pyfolio<0.10,>=0.9->finrl==0.3.6) (0.13.2)\n",
      "Requirement already satisfied: empyrical>=0.5.0 in c:\\programdata\\anaconda3\\envs\\py310\\lib\\site-packages (from pyfolio<0.10,>=0.9->finrl==0.3.6) (0.5.5)\n",
      "Requirement already satisfied: cvxpy<2.0.0,>=1.1.19 in c:\\programdata\\anaconda3\\envs\\py310\\lib\\site-packages (from pyportfolioopt<2,>=1->finrl==0.3.6) (1.4.2)\n",
      "Requirement already satisfied: click>=7.0 in c:\\users\\aryam\\appdata\\roaming\\python\\python310\\site-packages (from ray<3,>=2->ray[default,tune]<3,>=2->finrl==0.3.6) (8.1.7)\n",
      "Requirement already satisfied: filelock in c:\\users\\aryam\\appdata\\roaming\\python\\python310\\site-packages (from ray<3,>=2->ray[default,tune]<3,>=2->finrl==0.3.6) (3.13.1)\n",
      "Requirement already satisfied: jsonschema in c:\\users\\aryam\\appdata\\roaming\\python\\python310\\site-packages (from ray<3,>=2->ray[default,tune]<3,>=2->finrl==0.3.6) (4.21.1)\n",
      "Requirement already satisfied: protobuf!=3.19.5,>=3.15.3 in c:\\users\\aryam\\appdata\\roaming\\python\\python310\\site-packages (from ray<3,>=2->ray[default,tune]<3,>=2->finrl==0.3.6) (4.25.2)\n",
      "Requirement already satisfied: aiosignal in c:\\users\\aryam\\appdata\\roaming\\python\\python310\\site-packages (from ray<3,>=2->ray[default,tune]<3,>=2->finrl==0.3.6) (1.3.1)\n",
      "Requirement already satisfied: frozenlist in c:\\users\\aryam\\appdata\\roaming\\python\\python310\\site-packages (from ray<3,>=2->ray[default,tune]<3,>=2->finrl==0.3.6) (1.4.1)\n",
      "Requirement already satisfied: tensorboardX>=1.9 in c:\\programdata\\anaconda3\\envs\\py310\\lib\\site-packages (from ray[default,tune]<3,>=2->finrl==0.3.6) (2.6.2.2)\n",
      "Requirement already satisfied: pyarrow<7.0.0,>=6.0.1 in c:\\programdata\\anaconda3\\envs\\py310\\lib\\site-packages (from ray[default,tune]<3,>=2->finrl==0.3.6) (6.0.1)\n",
      "Requirement already satisfied: fsspec in c:\\users\\aryam\\appdata\\roaming\\python\\python310\\site-packages (from ray[default,tune]<3,>=2->finrl==0.3.6) (2024.2.0)\n",
      "Requirement already satisfied: aiohttp-cors in c:\\programdata\\anaconda3\\envs\\py310\\lib\\site-packages (from ray[default,tune]<3,>=2->finrl==0.3.6) (0.7.0)\n",
      "Requirement already satisfied: colorful in c:\\programdata\\anaconda3\\envs\\py310\\lib\\site-packages (from ray[default,tune]<3,>=2->finrl==0.3.6) (0.5.6)\n",
      "Requirement already satisfied: py-spy>=0.2.0 in c:\\programdata\\anaconda3\\envs\\py310\\lib\\site-packages (from ray[default,tune]<3,>=2->finrl==0.3.6) (0.3.14)\n",
      "Requirement already satisfied: gpustat>=1.0.0 in c:\\programdata\\anaconda3\\envs\\py310\\lib\\site-packages (from ray[default,tune]<3,>=2->finrl==0.3.6) (1.1.1)\n",
      "Requirement already satisfied: opencensus in c:\\programdata\\anaconda3\\envs\\py310\\lib\\site-packages (from ray[default,tune]<3,>=2->finrl==0.3.6) (0.11.4)\n",
      "Requirement already satisfied: pydantic!=2.0.*,!=2.1.*,!=2.2.*,!=2.3.*,!=2.4.*,<3 in c:\\programdata\\anaconda3\\envs\\py310\\lib\\site-packages (from ray[default,tune]<3,>=2->finrl==0.3.6) (2.6.1)\n",
      "Requirement already satisfied: prometheus-client>=0.7.1 in c:\\programdata\\anaconda3\\envs\\py310\\lib\\site-packages (from ray[default,tune]<3,>=2->finrl==0.3.6) (0.14.1)\n",
      "Requirement already satisfied: smart-open in c:\\programdata\\anaconda3\\envs\\py310\\lib\\site-packages (from ray[default,tune]<3,>=2->finrl==0.3.6) (6.4.0)\n",
      "Requirement already satisfied: virtualenv!=20.21.1,>=20.0.24 in c:\\programdata\\anaconda3\\envs\\py310\\lib\\site-packages (from ray[default,tune]<3,>=2->finrl==0.3.6) (20.25.0)\n",
      "Requirement already satisfied: grpcio>=1.42.0 in c:\\users\\aryam\\appdata\\roaming\\python\\python310\\site-packages (from ray[default,tune]<3,>=2->finrl==0.3.6) (1.60.1)\n",
      "Requirement already satisfied: joblib>=1.2.0 in c:\\users\\aryam\\appdata\\roaming\\python\\python310\\site-packages (from scikit-learn<2,>=1->finrl==0.3.6) (1.3.2)\n",
      "Requirement already satisfied: threadpoolctl>=2.0.0 in c:\\users\\aryam\\appdata\\roaming\\python\\python310\\site-packages (from scikit-learn<2,>=1->finrl==0.3.6) (3.2.0)\n",
      "Requirement already satisfied: gymnasium<0.30,>=0.28.1 in c:\\users\\aryam\\appdata\\roaming\\python\\python310\\site-packages (from stable-baselines3>=2.0.0a5->stable-baselines3[extra]>=2.0.0a5->finrl==0.3.6) (0.29.1)\n",
      "Requirement already satisfied: torch>=1.13 in c:\\users\\aryam\\appdata\\roaming\\python\\python310\\site-packages (from stable-baselines3>=2.0.0a5->stable-baselines3[extra]>=2.0.0a5->finrl==0.3.6) (2.2.0)\n",
      "Requirement already satisfied: cloudpickle in c:\\users\\aryam\\appdata\\roaming\\python\\python310\\site-packages (from stable-baselines3>=2.0.0a5->stable-baselines3[extra]>=2.0.0a5->finrl==0.3.6) (3.0.0)\n",
      "Requirement already satisfied: opencv-python in c:\\programdata\\anaconda3\\envs\\py310\\lib\\site-packages (from stable-baselines3[extra]>=2.0.0a5->finrl==0.3.6) (4.9.0.80)\n",
      "Requirement already satisfied: pygame in c:\\users\\aryam\\appdata\\roaming\\python\\python310\\site-packages (from stable-baselines3[extra]>=2.0.0a5->finrl==0.3.6) (2.1.0)\n",
      "Requirement already satisfied: tensorboard>=2.9.1 in c:\\programdata\\anaconda3\\envs\\py310\\lib\\site-packages (from stable-baselines3[extra]>=2.0.0a5->finrl==0.3.6) (2.15.2)\n",
      "Requirement already satisfied: psutil in c:\\users\\aryam\\appdata\\roaming\\python\\python310\\site-packages (from stable-baselines3[extra]>=2.0.0a5->finrl==0.3.6) (5.9.8)\n",
      "Requirement already satisfied: tqdm in c:\\programdata\\anaconda3\\envs\\py310\\lib\\site-packages (from stable-baselines3[extra]>=2.0.0a5->finrl==0.3.6) (4.66.2)\n",
      "Requirement already satisfied: rich in c:\\programdata\\anaconda3\\envs\\py310\\lib\\site-packages (from stable-baselines3[extra]>=2.0.0a5->finrl==0.3.6) (13.7.0)\n",
      "Requirement already satisfied: shimmy~=1.3.0 in c:\\users\\aryam\\appdata\\roaming\\python\\python310\\site-packages (from shimmy[atari]~=1.3.0; extra == \"extra\"->stable-baselines3[extra]>=2.0.0a5->finrl==0.3.6) (1.3.0)\n",
      "Requirement already satisfied: pillow in c:\\users\\aryam\\appdata\\roaming\\python\\python310\\site-packages (from stable-baselines3[extra]>=2.0.0a5->finrl==0.3.6) (10.2.0)\n",
      "Requirement already satisfied: autorom~=0.6.1 in c:\\programdata\\anaconda3\\envs\\py310\\lib\\site-packages (from autorom[accept-rom-license]~=0.6.1; extra == \"extra\"->stable-baselines3[extra]>=2.0.0a5->finrl==0.3.6) (0.6.1)\n",
      "Requirement already satisfied: psycopg2-binary<2.10,>=2.9 in c:\\programdata\\anaconda3\\envs\\py310\\lib\\site-packages (from wrds<4,>=3->finrl==0.3.6) (2.9.9)\n",
      "Requirement already satisfied: multitasking>=0.0.7 in c:\\programdata\\anaconda3\\envs\\py310\\lib\\site-packages (from yfinance<0.3,>=0.2->finrl==0.3.6) (0.0.11)\n",
      "Requirement already satisfied: lxml>=4.9.1 in c:\\users\\aryam\\appdata\\roaming\\python\\python310\\site-packages (from yfinance<0.3,>=0.2->finrl==0.3.6) (5.1.0)\n",
      "Requirement already satisfied: appdirs>=1.4.4 in c:\\programdata\\anaconda3\\envs\\py310\\lib\\site-packages (from yfinance<0.3,>=0.2->finrl==0.3.6) (1.4.4)\n",
      "Requirement already satisfied: frozendict>=2.3.4 in c:\\programdata\\anaconda3\\envs\\py310\\lib\\site-packages (from yfinance<0.3,>=0.2->finrl==0.3.6) (2.4.0)\n",
      "Requirement already satisfied: peewee>=3.16.2 in c:\\programdata\\anaconda3\\envs\\py310\\lib\\site-packages (from yfinance<0.3,>=0.2->finrl==0.3.6) (3.17.1)\n",
      "Requirement already satisfied: beautifulsoup4>=4.11.1 in c:\\programdata\\anaconda3\\envs\\py310\\lib\\site-packages (from yfinance<0.3,>=0.2->finrl==0.3.6) (4.12.2)\n",
      "Requirement already satisfied: html5lib>=1.1 in c:\\programdata\\anaconda3\\envs\\py310\\lib\\site-packages (from yfinance<0.3,>=0.2->finrl==0.3.6) (1.1)\n",
      "Requirement already satisfied: gym in c:\\users\\aryam\\appdata\\roaming\\python\\python310\\site-packages (from elegantrl@ git+https://github.com/AI4Finance-Foundation/ElegantRL.git#egg=elegantrl->finrl==0.3.6) (0.26.2)\n",
      "Requirement already satisfied: pycares>=4.0.0 in c:\\users\\aryam\\appdata\\roaming\\python\\python310\\site-packages (from aiodns>=1.1.1->ccxt<4,>=3->finrl==0.3.6) (4.4.0)\n",
      "Requirement already satisfied: attrs>=17.3.0 in c:\\users\\aryam\\appdata\\roaming\\python\\python310\\site-packages (from aiohttp<4,>=3.8.3->alpaca-trade-api<4,>=3->finrl==0.3.6) (23.2.0)\n",
      "Requirement already satisfied: multidict<7.0,>=4.5 in c:\\users\\aryam\\appdata\\roaming\\python\\python310\\site-packages (from aiohttp<4,>=3.8.3->alpaca-trade-api<4,>=3->finrl==0.3.6) (6.0.5)\n",
      "Requirement already satisfied: async-timeout<5.0,>=4.0 in c:\\users\\aryam\\appdata\\roaming\\python\\python310\\site-packages (from aiohttp<4,>=3.8.3->alpaca-trade-api<4,>=3->finrl==0.3.6) (4.0.3)\n",
      "Requirement already satisfied: AutoROM.accept-rom-license in c:\\programdata\\anaconda3\\envs\\py310\\lib\\site-packages (from autorom[accept-rom-license]~=0.6.1; extra == \"extra\"->stable-baselines3[extra]>=2.0.0a5->finrl==0.3.6) (0.6.1)\n",
      "Requirement already satisfied: soupsieve>1.2 in c:\\users\\aryam\\appdata\\roaming\\python\\python310\\site-packages (from beautifulsoup4>=4.11.1->yfinance<0.3,>=0.2->finrl==0.3.6) (2.5)\n",
      "Requirement already satisfied: colorama in c:\\users\\aryam\\appdata\\roaming\\python\\python310\\site-packages (from click>=7.0->ray<3,>=2->ray[default,tune]<3,>=2->finrl==0.3.6) (0.4.6)\n",
      "Requirement already satisfied: cffi>=1.12 in c:\\users\\aryam\\appdata\\roaming\\python\\python310\\site-packages (from cryptography>=2.6.1->ccxt<4,>=3->finrl==0.3.6) (1.16.0)\n",
      "Requirement already satisfied: osqp>=0.6.2 in c:\\programdata\\anaconda3\\envs\\py310\\lib\\site-packages (from cvxpy<2.0.0,>=1.1.19->pyportfolioopt<2,>=1->finrl==0.3.6) (0.6.4)\n",
      "Requirement already satisfied: ecos>=2 in c:\\users\\aryam\\appdata\\roaming\\python\\python310\\site-packages (from cvxpy<2.0.0,>=1.1.19->pyportfolioopt<2,>=1->finrl==0.3.6) (2.0.13)\n",
      "Requirement already satisfied: clarabel>=0.5.0 in c:\\users\\aryam\\appdata\\roaming\\python\\python310\\site-packages (from cvxpy<2.0.0,>=1.1.19->pyportfolioopt<2,>=1->finrl==0.3.6) (0.6.0)\n",
      "Requirement already satisfied: scs>=3.0 in c:\\users\\aryam\\appdata\\roaming\\python\\python310\\site-packages (from cvxpy<2.0.0,>=1.1.19->pyportfolioopt<2,>=1->finrl==0.3.6) (3.2.4.post1)\n",
      "Requirement already satisfied: pybind11 in c:\\users\\aryam\\appdata\\roaming\\python\\python310\\site-packages (from cvxpy<2.0.0,>=1.1.19->pyportfolioopt<2,>=1->finrl==0.3.6) (2.11.1)\n",
      "Requirement already satisfied: pandas-datareader>=0.2 in c:\\users\\aryam\\appdata\\roaming\\python\\python310\\site-packages (from empyrical>=0.5.0->pyfolio<0.10,>=0.9->finrl==0.3.6) (0.10.0)\n",
      "Requirement already satisfied: nvidia-ml-py>=11.450.129 in c:\\users\\aryam\\appdata\\roaming\\python\\python310\\site-packages (from gpustat>=1.0.0->ray[default,tune]<3,>=2->finrl==0.3.6) (12.535.133)\n",
      "Requirement already satisfied: blessed>=1.17.1 in c:\\programdata\\anaconda3\\envs\\py310\\lib\\site-packages (from gpustat>=1.0.0->ray[default,tune]<3,>=2->finrl==0.3.6) (1.20.0)\n",
      "Requirement already satisfied: typing-extensions>=4.3.0 in c:\\users\\aryam\\appdata\\roaming\\python\\python310\\site-packages (from gymnasium<0.30,>=0.28.1->stable-baselines3>=2.0.0a5->stable-baselines3[extra]>=2.0.0a5->finrl==0.3.6) (4.9.0)\n",
      "Requirement already satisfied: farama-notifications>=0.0.1 in c:\\users\\aryam\\appdata\\roaming\\python\\python310\\site-packages (from gymnasium<0.30,>=0.28.1->stable-baselines3>=2.0.0a5->stable-baselines3[extra]>=2.0.0a5->finrl==0.3.6) (0.0.4)\n",
      "Requirement already satisfied: webencodings in c:\\users\\aryam\\appdata\\roaming\\python\\python310\\site-packages (from html5lib>=1.1->yfinance<0.3,>=0.2->finrl==0.3.6) (0.5.1)\n",
      "Requirement already satisfied: decorator in c:\\users\\aryam\\appdata\\roaming\\python\\python310\\site-packages (from ipython>=3.2.3->pyfolio<0.10,>=0.9->finrl==0.3.6) (5.1.1)\n",
      "Requirement already satisfied: jedi>=0.16 in c:\\users\\aryam\\appdata\\roaming\\python\\python310\\site-packages (from ipython>=3.2.3->pyfolio<0.10,>=0.9->finrl==0.3.6) (0.19.1)\n",
      "Requirement already satisfied: matplotlib-inline in c:\\users\\aryam\\appdata\\roaming\\python\\python310\\site-packages (from ipython>=3.2.3->pyfolio<0.10,>=0.9->finrl==0.3.6) (0.1.6)\n",
      "Requirement already satisfied: prompt-toolkit<3.1.0,>=3.0.41 in c:\\users\\aryam\\appdata\\roaming\\python\\python310\\site-packages (from ipython>=3.2.3->pyfolio<0.10,>=0.9->finrl==0.3.6) (3.0.43)\n",
      "Requirement already satisfied: pygments>=2.4.0 in c:\\users\\aryam\\appdata\\roaming\\python\\python310\\site-packages (from ipython>=3.2.3->pyfolio<0.10,>=0.9->finrl==0.3.6) (2.17.2)\n",
      "Requirement already satisfied: stack-data in c:\\users\\aryam\\appdata\\roaming\\python\\python310\\site-packages (from ipython>=3.2.3->pyfolio<0.10,>=0.9->finrl==0.3.6) (0.6.3)\n",
      "Requirement already satisfied: traitlets>=5 in c:\\users\\aryam\\appdata\\roaming\\python\\python310\\site-packages (from ipython>=3.2.3->pyfolio<0.10,>=0.9->finrl==0.3.6) (5.14.1)\n",
      "Requirement already satisfied: exceptiongroup in c:\\users\\aryam\\appdata\\roaming\\python\\python310\\site-packages (from ipython>=3.2.3->pyfolio<0.10,>=0.9->finrl==0.3.6) (1.2.0)\n",
      "Requirement already satisfied: contourpy>=1.0.1 in c:\\users\\aryam\\appdata\\roaming\\python\\python310\\site-packages (from matplotlib>=1.4.0->pyfolio<0.10,>=0.9->finrl==0.3.6) (1.2.0)\n",
      "Requirement already satisfied: cycler>=0.10 in c:\\users\\aryam\\appdata\\roaming\\python\\python310\\site-packages (from matplotlib>=1.4.0->pyfolio<0.10,>=0.9->finrl==0.3.6) (0.12.1)\n",
      "Requirement already satisfied: fonttools>=4.22.0 in c:\\users\\aryam\\appdata\\roaming\\python\\python310\\site-packages (from matplotlib>=1.4.0->pyfolio<0.10,>=0.9->finrl==0.3.6) (4.48.1)\n",
      "Requirement already satisfied: kiwisolver>=1.3.1 in c:\\users\\aryam\\appdata\\roaming\\python\\python310\\site-packages (from matplotlib>=1.4.0->pyfolio<0.10,>=0.9->finrl==0.3.6) (1.4.5)\n",
      "Requirement already satisfied: pyparsing>=2.3.1 in c:\\users\\aryam\\appdata\\roaming\\python\\python310\\site-packages (from matplotlib>=1.4.0->pyfolio<0.10,>=0.9->finrl==0.3.6) (3.1.1)\n",
      "Requirement already satisfied: python-dateutil>=2.7 in c:\\users\\aryam\\appdata\\roaming\\python\\python310\\site-packages (from matplotlib>=1.4.0->pyfolio<0.10,>=0.9->finrl==0.3.6) (2.8.2)\n",
      "Requirement already satisfied: annotated-types>=0.4.0 in c:\\programdata\\anaconda3\\envs\\py310\\lib\\site-packages (from pydantic!=2.0.*,!=2.1.*,!=2.2.*,!=2.3.*,!=2.4.*,<3->ray[default,tune]<3,>=2->finrl==0.3.6) (0.6.0)\n",
      "Requirement already satisfied: pydantic-core==2.16.2 in c:\\users\\aryam\\appdata\\roaming\\python\\python310\\site-packages (from pydantic!=2.0.*,!=2.1.*,!=2.2.*,!=2.3.*,!=2.4.*,<3->ray[default,tune]<3,>=2->finrl==0.3.6) (2.16.2)\n",
      "Requirement already satisfied: charset-normalizer<4,>=2 in c:\\users\\aryam\\appdata\\roaming\\python\\python310\\site-packages (from requests<3,>2->alpaca-trade-api<4,>=3->finrl==0.3.6) (3.3.2)\n",
      "Requirement already satisfied: idna<4,>=2.5 in c:\\users\\aryam\\appdata\\roaming\\python\\python310\\site-packages (from requests<3,>2->alpaca-trade-api<4,>=3->finrl==0.3.6) (3.6)\n",
      "Requirement already satisfied: ale-py~=0.8.1 in c:\\programdata\\anaconda3\\envs\\py310\\lib\\site-packages (from shimmy[atari]~=1.3.0; extra == \"extra\"->stable-baselines3[extra]>=2.0.0a5->finrl==0.3.6) (0.8.1)\n",
      "Requirement already satisfied: greenlet!=0.4.17 in c:\\users\\aryam\\appdata\\roaming\\python\\python310\\site-packages (from SQLAlchemy>=1.2.8->jqdatasdk<2,>=1->finrl==0.3.6) (3.0.3)\n",
      "Requirement already satisfied: absl-py>=0.4 in c:\\programdata\\anaconda3\\envs\\py310\\lib\\site-packages (from tensorboard>=2.9.1->stable-baselines3[extra]>=2.0.0a5->finrl==0.3.6) (2.1.0)\n",
      "Requirement already satisfied: google-auth<3,>=1.6.3 in c:\\users\\aryam\\appdata\\roaming\\python\\python310\\site-packages (from tensorboard>=2.9.1->stable-baselines3[extra]>=2.0.0a5->finrl==0.3.6) (2.27.0)\n",
      "Requirement already satisfied: google-auth-oauthlib<2,>=0.5 in c:\\users\\aryam\\appdata\\roaming\\python\\python310\\site-packages (from tensorboard>=2.9.1->stable-baselines3[extra]>=2.0.0a5->finrl==0.3.6) (1.2.0)\n",
      "Requirement already satisfied: markdown>=2.6.8 in c:\\users\\aryam\\appdata\\roaming\\python\\python310\\site-packages (from tensorboard>=2.9.1->stable-baselines3[extra]>=2.0.0a5->finrl==0.3.6) (3.5.2)\n",
      "Requirement already satisfied: tensorboard-data-server<0.8.0,>=0.7.0 in c:\\users\\aryam\\appdata\\roaming\\python\\python310\\site-packages (from tensorboard>=2.9.1->stable-baselines3[extra]>=2.0.0a5->finrl==0.3.6) (0.7.2)\n",
      "Requirement already satisfied: werkzeug>=1.0.1 in c:\\users\\aryam\\appdata\\roaming\\python\\python310\\site-packages (from tensorboard>=2.9.1->stable-baselines3[extra]>=2.0.0a5->finrl==0.3.6) (3.0.1)\n",
      "Requirement already satisfied: ply<4.0,>=3.4 in c:\\users\\aryam\\appdata\\roaming\\python\\python310\\site-packages (from thriftpy2>=0.3.9->jqdatasdk<2,>=1->finrl==0.3.6) (3.11)\n",
      "Requirement already satisfied: sympy in c:\\users\\aryam\\appdata\\roaming\\python\\python310\\site-packages (from torch>=1.13->stable-baselines3>=2.0.0a5->stable-baselines3[extra]>=2.0.0a5->finrl==0.3.6) (1.12)\n",
      "Requirement already satisfied: networkx in c:\\users\\aryam\\appdata\\roaming\\python\\python310\\site-packages (from torch>=1.13->stable-baselines3>=2.0.0a5->stable-baselines3[extra]>=2.0.0a5->finrl==0.3.6) (3.2.1)\n",
      "Requirement already satisfied: jinja2 in c:\\users\\aryam\\appdata\\roaming\\python\\python310\\site-packages (from torch>=1.13->stable-baselines3>=2.0.0a5->stable-baselines3[extra]>=2.0.0a5->finrl==0.3.6) (3.1.3)\n",
      "Requirement already satisfied: distlib<1,>=0.3.7 in c:\\users\\aryam\\appdata\\roaming\\python\\python310\\site-packages (from virtualenv!=20.21.1,>=20.0.24->ray[default,tune]<3,>=2->finrl==0.3.6) (0.3.8)\n",
      "Requirement already satisfied: platformdirs<5,>=3.9.1 in c:\\users\\aryam\\appdata\\roaming\\python\\python310\\site-packages (from virtualenv!=20.21.1,>=20.0.24->ray[default,tune]<3,>=2->finrl==0.3.6) (4.2.0)\n",
      "Requirement already satisfied: gym-notices>=0.0.4 in c:\\users\\aryam\\appdata\\roaming\\python\\python310\\site-packages (from gym->elegantrl@ git+https://github.com/AI4Finance-Foundation/ElegantRL.git#egg=elegantrl->finrl==0.3.6) (0.0.8)\n",
      "Requirement already satisfied: box2d-py==2.3.5 in c:\\programdata\\anaconda3\\envs\\py310\\lib\\site-packages (from gym[box2d]->elegantrl@ git+https://github.com/AI4Finance-Foundation/ElegantRL.git#egg=elegantrl->finrl==0.3.6) (2.3.5)\n",
      "Requirement already satisfied: swig==4.* in c:\\users\\aryam\\appdata\\roaming\\python\\python310\\site-packages (from gym[box2d]->elegantrl@ git+https://github.com/AI4Finance-Foundation/ElegantRL.git#egg=elegantrl->finrl==0.3.6) (4.2.0)\n",
      "Requirement already satisfied: jsonschema-specifications>=2023.03.6 in c:\\users\\aryam\\appdata\\roaming\\python\\python310\\site-packages (from jsonschema->ray<3,>=2->ray[default,tune]<3,>=2->finrl==0.3.6) (2023.12.1)\n",
      "Requirement already satisfied: referencing>=0.28.4 in c:\\users\\aryam\\appdata\\roaming\\python\\python310\\site-packages (from jsonschema->ray<3,>=2->ray[default,tune]<3,>=2->finrl==0.3.6) (0.33.0)\n",
      "Requirement already satisfied: rpds-py>=0.7.1 in c:\\users\\aryam\\appdata\\roaming\\python\\python310\\site-packages (from jsonschema->ray<3,>=2->ray[default,tune]<3,>=2->finrl==0.3.6) (0.17.1)\n",
      "Requirement already satisfied: opencensus-context>=0.1.3 in c:\\users\\aryam\\appdata\\roaming\\python\\python310\\site-packages (from opencensus->ray[default,tune]<3,>=2->finrl==0.3.6) (0.1.3)\n",
      "Requirement already satisfied: google-api-core<3.0.0,>=1.0.0 in c:\\users\\aryam\\appdata\\roaming\\python\\python310\\site-packages (from opencensus->ray[default,tune]<3,>=2->finrl==0.3.6) (2.17.0)\n",
      "Requirement already satisfied: markdown-it-py>=2.2.0 in c:\\users\\aryam\\appdata\\roaming\\python\\python310\\site-packages (from rich->stable-baselines3[extra]>=2.0.0a5->finrl==0.3.6) (3.0.0)\n",
      "Requirement already satisfied: importlib-resources in c:\\users\\aryam\\appdata\\roaming\\python\\python310\\site-packages (from ale-py~=0.8.1->shimmy[atari]~=1.3.0; extra == \"extra\"->stable-baselines3[extra]>=2.0.0a5->finrl==0.3.6) (6.1.1)\n",
      "Requirement already satisfied: wcwidth>=0.1.4 in c:\\users\\aryam\\appdata\\roaming\\python\\python310\\site-packages (from blessed>=1.17.1->gpustat>=1.0.0->ray[default,tune]<3,>=2->finrl==0.3.6) (0.2.13)\n",
      "Requirement already satisfied: jinxed>=1.1.0 in c:\\users\\aryam\\appdata\\roaming\\python\\python310\\site-packages (from blessed>=1.17.1->gpustat>=1.0.0->ray[default,tune]<3,>=2->finrl==0.3.6) (1.2.1)\n",
      "Requirement already satisfied: pycparser in c:\\users\\aryam\\appdata\\roaming\\python\\python310\\site-packages (from cffi>=1.12->cryptography>=2.6.1->ccxt<4,>=3->finrl==0.3.6) (2.21)\n",
      "Requirement already satisfied: googleapis-common-protos<2.0.dev0,>=1.56.2 in c:\\users\\aryam\\appdata\\roaming\\python\\python310\\site-packages (from google-api-core<3.0.0,>=1.0.0->opencensus->ray[default,tune]<3,>=2->finrl==0.3.6) (1.62.0)\n",
      "Requirement already satisfied: cachetools<6.0,>=2.0.0 in c:\\users\\aryam\\appdata\\roaming\\python\\python310\\site-packages (from google-auth<3,>=1.6.3->tensorboard>=2.9.1->stable-baselines3[extra]>=2.0.0a5->finrl==0.3.6) (5.3.2)\n",
      "Requirement already satisfied: pyasn1-modules>=0.2.1 in c:\\users\\aryam\\appdata\\roaming\\python\\python310\\site-packages (from google-auth<3,>=1.6.3->tensorboard>=2.9.1->stable-baselines3[extra]>=2.0.0a5->finrl==0.3.6) (0.3.0)\n",
      "Requirement already satisfied: rsa<5,>=3.1.4 in c:\\users\\aryam\\appdata\\roaming\\python\\python310\\site-packages (from google-auth<3,>=1.6.3->tensorboard>=2.9.1->stable-baselines3[extra]>=2.0.0a5->finrl==0.3.6) (4.9)\n",
      "Requirement already satisfied: requests-oauthlib>=0.7.0 in c:\\users\\aryam\\appdata\\roaming\\python\\python310\\site-packages (from google-auth-oauthlib<2,>=0.5->tensorboard>=2.9.1->stable-baselines3[extra]>=2.0.0a5->finrl==0.3.6) (1.3.1)\n",
      "Requirement already satisfied: parso<0.9.0,>=0.8.3 in c:\\users\\aryam\\appdata\\roaming\\python\\python310\\site-packages (from jedi>=0.16->ipython>=3.2.3->pyfolio<0.10,>=0.9->finrl==0.3.6) (0.8.3)\n",
      "Requirement already satisfied: mdurl~=0.1 in c:\\users\\aryam\\appdata\\roaming\\python\\python310\\site-packages (from markdown-it-py>=2.2.0->rich->stable-baselines3[extra]>=2.0.0a5->finrl==0.3.6) (0.1.2)\n",
      "Requirement already satisfied: qdldl in c:\\users\\aryam\\appdata\\roaming\\python\\python310\\site-packages (from osqp>=0.6.2->cvxpy<2.0.0,>=1.1.19->pyportfolioopt<2,>=1->finrl==0.3.6) (0.1.7.post0)\n",
      "Requirement already satisfied: MarkupSafe>=2.1.1 in c:\\users\\aryam\\appdata\\roaming\\python\\python310\\site-packages (from werkzeug>=1.0.1->tensorboard>=2.9.1->stable-baselines3[extra]>=2.0.0a5->finrl==0.3.6) (2.1.5)\n",
      "Requirement already satisfied: executing>=1.2.0 in c:\\users\\aryam\\appdata\\roaming\\python\\python310\\site-packages (from stack-data->ipython>=3.2.3->pyfolio<0.10,>=0.9->finrl==0.3.6) (2.0.1)\n",
      "Requirement already satisfied: asttokens>=2.1.0 in c:\\users\\aryam\\appdata\\roaming\\python\\python310\\site-packages (from stack-data->ipython>=3.2.3->pyfolio<0.10,>=0.9->finrl==0.3.6) (2.4.1)\n",
      "Requirement already satisfied: pure-eval in c:\\users\\aryam\\appdata\\roaming\\python\\python310\\site-packages (from stack-data->ipython>=3.2.3->pyfolio<0.10,>=0.9->finrl==0.3.6) (0.2.2)\n",
      "Requirement already satisfied: mpmath>=0.19 in c:\\users\\aryam\\appdata\\roaming\\python\\python310\\site-packages (from sympy->torch>=1.13->stable-baselines3>=2.0.0a5->stable-baselines3[extra]>=2.0.0a5->finrl==0.3.6) (1.3.0)\n",
      "Requirement already satisfied: ansicon in c:\\users\\aryam\\appdata\\roaming\\python\\python310\\site-packages (from jinxed>=1.1.0->blessed>=1.17.1->gpustat>=1.0.0->ray[default,tune]<3,>=2->finrl==0.3.6) (1.89.0)\n",
      "Requirement already satisfied: pyasn1<0.6.0,>=0.4.6 in c:\\users\\aryam\\appdata\\roaming\\python\\python310\\site-packages (from pyasn1-modules>=0.2.1->google-auth<3,>=1.6.3->tensorboard>=2.9.1->stable-baselines3[extra]>=2.0.0a5->finrl==0.3.6) (0.5.1)\n",
      "Requirement already satisfied: oauthlib>=3.0.0 in c:\\users\\aryam\\appdata\\roaming\\python\\python310\\site-packages (from requests-oauthlib>=0.7.0->google-auth-oauthlib<2,>=0.5->tensorboard>=2.9.1->stable-baselines3[extra]>=2.0.0a5->finrl==0.3.6) (3.2.2)\n"
     ]
    },
    {
     "name": "stderr",
     "output_type": "stream",
     "text": [
      "  Running command git clone --filter=blob:none --quiet https://github.com/AI4Finance-Foundation/FinRL.git 'C:\\Users\\aryam\\AppData\\Local\\Temp\\pip-req-build-3uwrbt29'\n",
      "  Running command git clone --filter=blob:none --quiet https://github.com/AI4Finance-Foundation/ElegantRL.git 'C:\\Users\\aryam\\AppData\\Local\\Temp\\pip-install-d0e26z9i\\elegantrl_54d88fe1a0034e5aabc0707f54b72bed'\n"
     ]
    }
   ],
   "source": [
    "## install required packages\n",
    "!pip install swig\n",
    "!pip install wrds\n",
    "!pip install pyportfolioopt\n",
    "## install finrl library\n",
    "!pip install git+https://github.com/AI4Finance-Foundation/FinRL.git"
   ]
  },
  {
   "cell_type": "code",
   "execution_count": 2,
   "metadata": {
    "id": "j37flV31OJGW"
   },
   "outputs": [
    {
     "name": "stderr",
     "output_type": "stream",
     "text": [
      "C:\\Users\\aryam\\AppData\\Local\\Temp\\ipykernel_41608\\1185721934.py:1: DeprecationWarning: \n",
      "Pyarrow will become a required dependency of pandas in the next major release of pandas (pandas 3.0),\n",
      "(to allow more performant data types, such as the Arrow string type, and better interoperability with other libraries)\n",
      "but was too old on your system - pyarrow 10.0.1 is the current minimum supported version as of this release.\n",
      "If this would cause problems for you,\n",
      "please provide us feedback at https://github.com/pandas-dev/pandas/issues/54466\n",
      "        \n",
      "  import pandas as pd\n"
     ]
    }
   ],
   "source": [
    "import pandas as pd\n",
    "import numpy as np\n",
    "import datetime\n",
    "import yfinance as yf\n",
    "\n",
    "from finrl.meta.preprocessor.yahoodownloader import YahooDownloader\n",
    "from finrl.meta.preprocessor.preprocessors import FeatureEngineer, data_split\n",
    "from finrl import config_tickers\n",
    "from finrl.config import INDICATORS\n",
    "\n",
    "import itertools"
   ]
  },
  {
   "cell_type": "markdown",
   "metadata": {
    "id": "wxsN8i7tg07U"
   },
   "source": [
    "# Part 2. Fetch data"
   ]
  },
  {
   "cell_type": "markdown",
   "metadata": {
    "id": "fMNm9tCMXy8J"
   },
   "source": [
    "[yfinance](https://github.com/ranaroussi/yfinance) is an open-source library that provides APIs fetching historical data form Yahoo Finance. In FinRL, we have a class called [YahooDownloader](https://github.com/AI4Finance-Foundation/FinRL/blob/master/finrl/meta/preprocessor/yahoodownloader.py) that use yfinance to fetch data from Yahoo Finance."
   ]
  },
  {
   "cell_type": "markdown",
   "metadata": {
    "id": "CWVXUkzaZE8m"
   },
   "source": [
    "**OHLCV**: Data downloaded are in the form of OHLCV, corresponding to **open, high, low, close, volume,** respectively. OHLCV is important because they contain most of numerical information of a stock in time series. From OHLCV, traders can get further judgement and prediction like the momentum, people's interest, market trends, etc."
   ]
  },
  {
   "cell_type": "markdown",
   "metadata": {
    "id": "jRYlbdMpW9Np"
   },
   "source": [
    "## Data for a single ticker"
   ]
  },
  {
   "cell_type": "markdown",
   "metadata": {
    "id": "1wo6pCQYXDbz"
   },
   "source": [
    "Here we provide two ways to fetch data with single ticker, let's take Apple Inc. (AAPL) as an example."
   ]
  },
  {
   "cell_type": "markdown",
   "metadata": {
    "id": "yzVRe90WXLB1"
   },
   "source": [
    "### Using yfinance"
   ]
  },
  {
   "cell_type": "code",
   "execution_count": 3,
   "metadata": {
    "colab": {
     "base_uri": "https://localhost:8080/"
    },
    "id": "SSl6mVV7XNw6",
    "outputId": "460c06eb-c71d-4ebb-fe17-481295d70cff"
   },
   "outputs": [
    {
     "name": "stderr",
     "output_type": "stream",
     "text": [
      "c:\\ProgramData\\anaconda3\\envs\\py310\\lib\\site-packages\\yfinance\\utils.py:775: FutureWarning: The 'unit' keyword in TimedeltaIndex construction is deprecated and will be removed in a future version. Use pd.to_timedelta instead.\n",
      "  df.index += _pd.TimedeltaIndex(dst_error_hours, 'h')\n",
      "[*********************100%%**********************]  1 of 1 completed\n"
     ]
    }
   ],
   "source": [
    "ril_df_yf = yf.download(tickers = \"RELIANCE.NS\", start='2020-01-01', end='2024-02-10')"
   ]
  },
  {
   "cell_type": "code",
   "execution_count": 4,
   "metadata": {
    "colab": {
     "base_uri": "https://localhost:8080/",
     "height": 238
    },
    "id": "Rjutz22rXrpR",
    "outputId": "62aadc8c-b854-403d-ac73-6cf86d53fa22"
   },
   "outputs": [
    {
     "data": {
      "text/html": [
       "<div>\n",
       "<style scoped>\n",
       "    .dataframe tbody tr th:only-of-type {\n",
       "        vertical-align: middle;\n",
       "    }\n",
       "\n",
       "    .dataframe tbody tr th {\n",
       "        vertical-align: top;\n",
       "    }\n",
       "\n",
       "    .dataframe thead th {\n",
       "        text-align: right;\n",
       "    }\n",
       "</style>\n",
       "<table border=\"1\" class=\"dataframe\">\n",
       "  <thead>\n",
       "    <tr style=\"text-align: right;\">\n",
       "      <th></th>\n",
       "      <th>Open</th>\n",
       "      <th>High</th>\n",
       "      <th>Low</th>\n",
       "      <th>Close</th>\n",
       "      <th>Adj Close</th>\n",
       "      <th>Volume</th>\n",
       "    </tr>\n",
       "    <tr>\n",
       "      <th>Date</th>\n",
       "      <th></th>\n",
       "      <th></th>\n",
       "      <th></th>\n",
       "      <th></th>\n",
       "      <th></th>\n",
       "      <th></th>\n",
       "    </tr>\n",
       "  </thead>\n",
       "  <tbody>\n",
       "    <tr>\n",
       "      <th>2020-01-01</th>\n",
       "      <td>1387.957031</td>\n",
       "      <td>1396.277466</td>\n",
       "      <td>1376.527954</td>\n",
       "      <td>1380.276611</td>\n",
       "      <td>1360.645142</td>\n",
       "      <td>7002234</td>\n",
       "    </tr>\n",
       "    <tr>\n",
       "      <th>2020-01-02</th>\n",
       "      <td>1382.471069</td>\n",
       "      <td>1408.941040</td>\n",
       "      <td>1382.471069</td>\n",
       "      <td>1403.775024</td>\n",
       "      <td>1383.809448</td>\n",
       "      <td>8855158</td>\n",
       "    </tr>\n",
       "    <tr>\n",
       "      <th>2020-01-03</th>\n",
       "      <td>1401.671997</td>\n",
       "      <td>1409.581055</td>\n",
       "      <td>1392.528687</td>\n",
       "      <td>1405.466553</td>\n",
       "      <td>1385.476807</td>\n",
       "      <td>10492349</td>\n",
       "    </tr>\n",
       "    <tr>\n",
       "      <th>2020-01-06</th>\n",
       "      <td>1389.785767</td>\n",
       "      <td>1397.008911</td>\n",
       "      <td>1369.670410</td>\n",
       "      <td>1372.870605</td>\n",
       "      <td>1353.344482</td>\n",
       "      <td>12259588</td>\n",
       "    </tr>\n",
       "    <tr>\n",
       "      <th>2020-01-07</th>\n",
       "      <td>1388.871338</td>\n",
       "      <td>1403.043579</td>\n",
       "      <td>1383.842529</td>\n",
       "      <td>1393.991699</td>\n",
       "      <td>1374.165283</td>\n",
       "      <td>8341811</td>\n",
       "    </tr>\n",
       "  </tbody>\n",
       "</table>\n",
       "</div>"
      ],
      "text/plain": [
       "                   Open         High          Low        Close    Adj Close  \\\n",
       "Date                                                                          \n",
       "2020-01-01  1387.957031  1396.277466  1376.527954  1380.276611  1360.645142   \n",
       "2020-01-02  1382.471069  1408.941040  1382.471069  1403.775024  1383.809448   \n",
       "2020-01-03  1401.671997  1409.581055  1392.528687  1405.466553  1385.476807   \n",
       "2020-01-06  1389.785767  1397.008911  1369.670410  1372.870605  1353.344482   \n",
       "2020-01-07  1388.871338  1403.043579  1383.842529  1393.991699  1374.165283   \n",
       "\n",
       "              Volume  \n",
       "Date                  \n",
       "2020-01-01   7002234  \n",
       "2020-01-02   8855158  \n",
       "2020-01-03  10492349  \n",
       "2020-01-06  12259588  \n",
       "2020-01-07   8341811  "
      ]
     },
     "execution_count": 4,
     "metadata": {},
     "output_type": "execute_result"
    }
   ],
   "source": [
    "ril_df_yf.head()"
   ]
  },
  {
   "cell_type": "markdown",
   "metadata": {
    "id": "fHZLDmnsXOK0"
   },
   "source": [
    "### Using FinRL"
   ]
  },
  {
   "cell_type": "markdown",
   "metadata": {
    "id": "VFB77ohNbXCc"
   },
   "source": [
    "In FinRL's YahooDownloader, we modified the data frame to the form that convenient for further data processing process. We use adjusted close price instead of close price, and add a column representing the day of a week (0-4 corresponding to Monday-Friday)."
   ]
  },
  {
   "cell_type": "code",
   "execution_count": 5,
   "metadata": {
    "colab": {
     "base_uri": "https://localhost:8080/"
    },
    "id": "7ufDHvt4XBWT",
    "outputId": "41603042-4f14-4814-c569-305d85fa7f9d"
   },
   "outputs": [
    {
     "name": "stderr",
     "output_type": "stream",
     "text": [
      "c:\\ProgramData\\anaconda3\\envs\\py310\\lib\\site-packages\\yfinance\\utils.py:775: FutureWarning: The 'unit' keyword in TimedeltaIndex construction is deprecated and will be removed in a future version. Use pd.to_timedelta instead.\n",
      "  df.index += _pd.TimedeltaIndex(dst_error_hours, 'h')\n",
      "[*********************100%%**********************]  1 of 1 completed"
     ]
    },
    {
     "name": "stdout",
     "output_type": "stream",
     "text": [
      "Shape of DataFrame:  (1020, 8)\n"
     ]
    },
    {
     "name": "stderr",
     "output_type": "stream",
     "text": [
      "\n"
     ]
    }
   ],
   "source": [
    "ril_df_finrl = YahooDownloader(start_date = '2020-01-01',\n",
    "                                end_date = '2024-02-10',\n",
    "                                ticker_list = ['RELIANCE.NS']).fetch_data()"
   ]
  },
  {
   "cell_type": "code",
   "execution_count": 6,
   "metadata": {
    "colab": {
     "base_uri": "https://localhost:8080/",
     "height": 206
    },
    "id": "_TgEjXxhXtT_",
    "outputId": "a8e8a9e2-a1ea-472e-eddf-2227e6c901d8"
   },
   "outputs": [
    {
     "data": {
      "text/html": [
       "<div>\n",
       "<style scoped>\n",
       "    .dataframe tbody tr th:only-of-type {\n",
       "        vertical-align: middle;\n",
       "    }\n",
       "\n",
       "    .dataframe tbody tr th {\n",
       "        vertical-align: top;\n",
       "    }\n",
       "\n",
       "    .dataframe thead th {\n",
       "        text-align: right;\n",
       "    }\n",
       "</style>\n",
       "<table border=\"1\" class=\"dataframe\">\n",
       "  <thead>\n",
       "    <tr style=\"text-align: right;\">\n",
       "      <th></th>\n",
       "      <th>date</th>\n",
       "      <th>open</th>\n",
       "      <th>high</th>\n",
       "      <th>low</th>\n",
       "      <th>close</th>\n",
       "      <th>volume</th>\n",
       "      <th>tic</th>\n",
       "      <th>day</th>\n",
       "    </tr>\n",
       "  </thead>\n",
       "  <tbody>\n",
       "    <tr>\n",
       "      <th>0</th>\n",
       "      <td>2020-01-01</td>\n",
       "      <td>1387.957031</td>\n",
       "      <td>1396.277466</td>\n",
       "      <td>1376.527954</td>\n",
       "      <td>1360.645142</td>\n",
       "      <td>7002234</td>\n",
       "      <td>RELIANCE.NS</td>\n",
       "      <td>2</td>\n",
       "    </tr>\n",
       "    <tr>\n",
       "      <th>1</th>\n",
       "      <td>2020-01-02</td>\n",
       "      <td>1382.471069</td>\n",
       "      <td>1408.941040</td>\n",
       "      <td>1382.471069</td>\n",
       "      <td>1383.809448</td>\n",
       "      <td>8855158</td>\n",
       "      <td>RELIANCE.NS</td>\n",
       "      <td>3</td>\n",
       "    </tr>\n",
       "    <tr>\n",
       "      <th>2</th>\n",
       "      <td>2020-01-03</td>\n",
       "      <td>1401.671997</td>\n",
       "      <td>1409.581055</td>\n",
       "      <td>1392.528687</td>\n",
       "      <td>1385.476807</td>\n",
       "      <td>10492349</td>\n",
       "      <td>RELIANCE.NS</td>\n",
       "      <td>4</td>\n",
       "    </tr>\n",
       "    <tr>\n",
       "      <th>3</th>\n",
       "      <td>2020-01-06</td>\n",
       "      <td>1389.785767</td>\n",
       "      <td>1397.008911</td>\n",
       "      <td>1369.670410</td>\n",
       "      <td>1353.344482</td>\n",
       "      <td>12259588</td>\n",
       "      <td>RELIANCE.NS</td>\n",
       "      <td>0</td>\n",
       "    </tr>\n",
       "    <tr>\n",
       "      <th>4</th>\n",
       "      <td>2020-01-07</td>\n",
       "      <td>1388.871338</td>\n",
       "      <td>1403.043579</td>\n",
       "      <td>1383.842529</td>\n",
       "      <td>1374.165283</td>\n",
       "      <td>8341811</td>\n",
       "      <td>RELIANCE.NS</td>\n",
       "      <td>1</td>\n",
       "    </tr>\n",
       "  </tbody>\n",
       "</table>\n",
       "</div>"
      ],
      "text/plain": [
       "         date         open         high          low        close    volume  \\\n",
       "0  2020-01-01  1387.957031  1396.277466  1376.527954  1360.645142   7002234   \n",
       "1  2020-01-02  1382.471069  1408.941040  1382.471069  1383.809448   8855158   \n",
       "2  2020-01-03  1401.671997  1409.581055  1392.528687  1385.476807  10492349   \n",
       "3  2020-01-06  1389.785767  1397.008911  1369.670410  1353.344482  12259588   \n",
       "4  2020-01-07  1388.871338  1403.043579  1383.842529  1374.165283   8341811   \n",
       "\n",
       "           tic  day  \n",
       "0  RELIANCE.NS    2  \n",
       "1  RELIANCE.NS    3  \n",
       "2  RELIANCE.NS    4  \n",
       "3  RELIANCE.NS    0  \n",
       "4  RELIANCE.NS    1  "
      ]
     },
     "execution_count": 6,
     "metadata": {},
     "output_type": "execute_result"
    }
   ],
   "source": [
    "ril_df_finrl.head()"
   ]
  },
  {
   "cell_type": "markdown",
   "metadata": {
    "id": "9kcOE5nbic6R"
   },
   "source": [
    "## Data for the chosen tickers"
   ]
  },
  {
   "cell_type": "code",
   "execution_count": 7,
   "metadata": {
    "colab": {
     "base_uri": "https://localhost:8080/"
    },
    "id": "FKBjtAo2uIq5",
    "outputId": "927f682a-9cc3-4c11-c3f1-094ae811af6b"
   },
   "outputs": [
    {
     "ename": "AttributeError",
     "evalue": "module 'finrl.config_tickers' has no attribute 'SENSEX_TICKERS'",
     "output_type": "error",
     "traceback": [
      "\u001b[1;31m---------------------------------------------------------------------------\u001b[0m",
      "\u001b[1;31mAttributeError\u001b[0m                            Traceback (most recent call last)",
      "Cell \u001b[1;32mIn[7], line 1\u001b[0m\n\u001b[1;32m----> 1\u001b[0m \u001b[43mconfig_tickers\u001b[49m\u001b[38;5;241;43m.\u001b[39;49m\u001b[43mSENSEX_TICKERS\u001b[49m\n",
      "\u001b[1;31mAttributeError\u001b[0m: module 'finrl.config_tickers' has no attribute 'SENSEX_TICKERS'"
     ]
    }
   ],
   "source": [
    "config_tickers.SENSEX_TICKERS"
   ]
  },
  {
   "cell_type": "code",
   "execution_count": 8,
   "metadata": {
    "id": "9xTPG4Fhc-zL"
   },
   "outputs": [],
   "source": [
    "TRAIN_START_DATE = '2009-01-01'\n",
    "TRAIN_END_DATE = '2020-07-01'\n",
    "TRADE_START_DATE = '2020-07-01'\n",
    "TRADE_END_DATE = '2024-02-10'"
   ]
  },
  {
   "cell_type": "code",
   "execution_count": 9,
   "metadata": {
    "colab": {
     "base_uri": "https://localhost:8080/"
    },
    "id": "9LblMI8CO0F3",
    "outputId": "7be76385-50eb-4e8d-f2e5-1795d77b70ba"
   },
   "outputs": [
    {
     "name": "stderr",
     "output_type": "stream",
     "text": [
      "C:\\ProgramData\\anaconda3\\envs\\py310\\lib\\site-packages\\yfinance\\utils.py:775: FutureWarning: The 'unit' keyword in TimedeltaIndex construction is deprecated and will be removed in a future version. Use pd.to_timedelta instead.\n",
      "  df.index += _pd.TimedeltaIndex(dst_error_hours, 'h')\n",
      "[*********************100%%**********************]  1 of 1 completed\n",
      "C:\\ProgramData\\anaconda3\\envs\\py310\\lib\\site-packages\\yfinance\\utils.py:775: FutureWarning: The 'unit' keyword in TimedeltaIndex construction is deprecated and will be removed in a future version. Use pd.to_timedelta instead.\n",
      "  df.index += _pd.TimedeltaIndex(dst_error_hours, 'h')\n",
      "[*********************100%%**********************]  1 of 1 completed\n",
      "C:\\ProgramData\\anaconda3\\envs\\py310\\lib\\site-packages\\yfinance\\utils.py:775: FutureWarning: The 'unit' keyword in TimedeltaIndex construction is deprecated and will be removed in a future version. Use pd.to_timedelta instead.\n",
      "  df.index += _pd.TimedeltaIndex(dst_error_hours, 'h')\n",
      "[*********************100%%**********************]  1 of 1 completed\n",
      "C:\\ProgramData\\anaconda3\\envs\\py310\\lib\\site-packages\\yfinance\\utils.py:775: FutureWarning: The 'unit' keyword in TimedeltaIndex construction is deprecated and will be removed in a future version. Use pd.to_timedelta instead.\n",
      "  df.index += _pd.TimedeltaIndex(dst_error_hours, 'h')\n",
      "[*********************100%%**********************]  1 of 1 completed\n",
      "C:\\ProgramData\\anaconda3\\envs\\py310\\lib\\site-packages\\yfinance\\utils.py:775: FutureWarning: The 'unit' keyword in TimedeltaIndex construction is deprecated and will be removed in a future version. Use pd.to_timedelta instead.\n",
      "  df.index += _pd.TimedeltaIndex(dst_error_hours, 'h')\n",
      "[*********************100%%**********************]  1 of 1 completed\n",
      "C:\\ProgramData\\anaconda3\\envs\\py310\\lib\\site-packages\\yfinance\\utils.py:775: FutureWarning: The 'unit' keyword in TimedeltaIndex construction is deprecated and will be removed in a future version. Use pd.to_timedelta instead.\n",
      "  df.index += _pd.TimedeltaIndex(dst_error_hours, 'h')\n",
      "[*********************100%%**********************]  1 of 1 completed\n",
      "C:\\ProgramData\\anaconda3\\envs\\py310\\lib\\site-packages\\yfinance\\utils.py:775: FutureWarning: The 'unit' keyword in TimedeltaIndex construction is deprecated and will be removed in a future version. Use pd.to_timedelta instead.\n",
      "  df.index += _pd.TimedeltaIndex(dst_error_hours, 'h')\n",
      "[*********************100%%**********************]  1 of 1 completed\n",
      "C:\\ProgramData\\anaconda3\\envs\\py310\\lib\\site-packages\\yfinance\\utils.py:775: FutureWarning: The 'unit' keyword in TimedeltaIndex construction is deprecated and will be removed in a future version. Use pd.to_timedelta instead.\n",
      "  df.index += _pd.TimedeltaIndex(dst_error_hours, 'h')\n",
      "[*********************100%%**********************]  1 of 1 completed\n",
      "C:\\ProgramData\\anaconda3\\envs\\py310\\lib\\site-packages\\yfinance\\utils.py:775: FutureWarning: The 'unit' keyword in TimedeltaIndex construction is deprecated and will be removed in a future version. Use pd.to_timedelta instead.\n",
      "  df.index += _pd.TimedeltaIndex(dst_error_hours, 'h')\n",
      "[*********************100%%**********************]  1 of 1 completed\n",
      "C:\\ProgramData\\anaconda3\\envs\\py310\\lib\\site-packages\\yfinance\\utils.py:775: FutureWarning: The 'unit' keyword in TimedeltaIndex construction is deprecated and will be removed in a future version. Use pd.to_timedelta instead.\n",
      "  df.index += _pd.TimedeltaIndex(dst_error_hours, 'h')\n",
      "[*********************100%%**********************]  1 of 1 completed\n",
      "C:\\ProgramData\\anaconda3\\envs\\py310\\lib\\site-packages\\yfinance\\utils.py:775: FutureWarning: The 'unit' keyword in TimedeltaIndex construction is deprecated and will be removed in a future version. Use pd.to_timedelta instead.\n",
      "  df.index += _pd.TimedeltaIndex(dst_error_hours, 'h')\n",
      "[*********************100%%**********************]  1 of 1 completed\n",
      "C:\\ProgramData\\anaconda3\\envs\\py310\\lib\\site-packages\\yfinance\\utils.py:775: FutureWarning: The 'unit' keyword in TimedeltaIndex construction is deprecated and will be removed in a future version. Use pd.to_timedelta instead.\n",
      "  df.index += _pd.TimedeltaIndex(dst_error_hours, 'h')\n",
      "[*********************100%%**********************]  1 of 1 completed\n",
      "C:\\ProgramData\\anaconda3\\envs\\py310\\lib\\site-packages\\yfinance\\utils.py:775: FutureWarning: The 'unit' keyword in TimedeltaIndex construction is deprecated and will be removed in a future version. Use pd.to_timedelta instead.\n",
      "  df.index += _pd.TimedeltaIndex(dst_error_hours, 'h')\n",
      "[*********************100%%**********************]  1 of 1 completed\n",
      "C:\\ProgramData\\anaconda3\\envs\\py310\\lib\\site-packages\\yfinance\\utils.py:775: FutureWarning: The 'unit' keyword in TimedeltaIndex construction is deprecated and will be removed in a future version. Use pd.to_timedelta instead.\n",
      "  df.index += _pd.TimedeltaIndex(dst_error_hours, 'h')\n",
      "[*********************100%%**********************]  1 of 1 completed\n",
      "C:\\ProgramData\\anaconda3\\envs\\py310\\lib\\site-packages\\yfinance\\utils.py:775: FutureWarning: The 'unit' keyword in TimedeltaIndex construction is deprecated and will be removed in a future version. Use pd.to_timedelta instead.\n",
      "  df.index += _pd.TimedeltaIndex(dst_error_hours, 'h')\n",
      "[*********************100%%**********************]  1 of 1 completed\n",
      "C:\\ProgramData\\anaconda3\\envs\\py310\\lib\\site-packages\\yfinance\\utils.py:775: FutureWarning: The 'unit' keyword in TimedeltaIndex construction is deprecated and will be removed in a future version. Use pd.to_timedelta instead.\n",
      "  df.index += _pd.TimedeltaIndex(dst_error_hours, 'h')\n",
      "[*********************100%%**********************]  1 of 1 completed\n",
      "C:\\ProgramData\\anaconda3\\envs\\py310\\lib\\site-packages\\yfinance\\utils.py:775: FutureWarning: The 'unit' keyword in TimedeltaIndex construction is deprecated and will be removed in a future version. Use pd.to_timedelta instead.\n",
      "  df.index += _pd.TimedeltaIndex(dst_error_hours, 'h')\n",
      "[*********************100%%**********************]  1 of 1 completed\n",
      "C:\\ProgramData\\anaconda3\\envs\\py310\\lib\\site-packages\\yfinance\\utils.py:775: FutureWarning: The 'unit' keyword in TimedeltaIndex construction is deprecated and will be removed in a future version. Use pd.to_timedelta instead.\n",
      "  df.index += _pd.TimedeltaIndex(dst_error_hours, 'h')\n",
      "[*********************100%%**********************]  1 of 1 completed\n",
      "C:\\ProgramData\\anaconda3\\envs\\py310\\lib\\site-packages\\yfinance\\utils.py:775: FutureWarning: The 'unit' keyword in TimedeltaIndex construction is deprecated and will be removed in a future version. Use pd.to_timedelta instead.\n",
      "  df.index += _pd.TimedeltaIndex(dst_error_hours, 'h')\n",
      "[*********************100%%**********************]  1 of 1 completed\n",
      "C:\\ProgramData\\anaconda3\\envs\\py310\\lib\\site-packages\\yfinance\\utils.py:775: FutureWarning: The 'unit' keyword in TimedeltaIndex construction is deprecated and will be removed in a future version. Use pd.to_timedelta instead.\n",
      "  df.index += _pd.TimedeltaIndex(dst_error_hours, 'h')\n",
      "[*********************100%%**********************]  1 of 1 completed\n",
      "C:\\ProgramData\\anaconda3\\envs\\py310\\lib\\site-packages\\yfinance\\utils.py:775: FutureWarning: The 'unit' keyword in TimedeltaIndex construction is deprecated and will be removed in a future version. Use pd.to_timedelta instead.\n",
      "  df.index += _pd.TimedeltaIndex(dst_error_hours, 'h')\n",
      "[*********************100%%**********************]  1 of 1 completed\n",
      "C:\\ProgramData\\anaconda3\\envs\\py310\\lib\\site-packages\\yfinance\\utils.py:775: FutureWarning: The 'unit' keyword in TimedeltaIndex construction is deprecated and will be removed in a future version. Use pd.to_timedelta instead.\n",
      "  df.index += _pd.TimedeltaIndex(dst_error_hours, 'h')\n",
      "[*********************100%%**********************]  1 of 1 completed\n",
      "C:\\ProgramData\\anaconda3\\envs\\py310\\lib\\site-packages\\yfinance\\utils.py:775: FutureWarning: The 'unit' keyword in TimedeltaIndex construction is deprecated and will be removed in a future version. Use pd.to_timedelta instead.\n",
      "  df.index += _pd.TimedeltaIndex(dst_error_hours, 'h')\n",
      "[*********************100%%**********************]  1 of 1 completed\n",
      "C:\\ProgramData\\anaconda3\\envs\\py310\\lib\\site-packages\\yfinance\\utils.py:775: FutureWarning: The 'unit' keyword in TimedeltaIndex construction is deprecated and will be removed in a future version. Use pd.to_timedelta instead.\n",
      "  df.index += _pd.TimedeltaIndex(dst_error_hours, 'h')\n",
      "[*********************100%%**********************]  1 of 1 completed\n",
      "C:\\ProgramData\\anaconda3\\envs\\py310\\lib\\site-packages\\yfinance\\utils.py:775: FutureWarning: The 'unit' keyword in TimedeltaIndex construction is deprecated and will be removed in a future version. Use pd.to_timedelta instead.\n",
      "  df.index += _pd.TimedeltaIndex(dst_error_hours, 'h')\n",
      "[*********************100%%**********************]  1 of 1 completed\n",
      "C:\\ProgramData\\anaconda3\\envs\\py310\\lib\\site-packages\\yfinance\\utils.py:775: FutureWarning: The 'unit' keyword in TimedeltaIndex construction is deprecated and will be removed in a future version. Use pd.to_timedelta instead.\n",
      "  df.index += _pd.TimedeltaIndex(dst_error_hours, 'h')\n",
      "[*********************100%%**********************]  1 of 1 completed\n",
      "C:\\ProgramData\\anaconda3\\envs\\py310\\lib\\site-packages\\yfinance\\utils.py:775: FutureWarning: The 'unit' keyword in TimedeltaIndex construction is deprecated and will be removed in a future version. Use pd.to_timedelta instead.\n",
      "  df.index += _pd.TimedeltaIndex(dst_error_hours, 'h')\n",
      "[*********************100%%**********************]  1 of 1 completed\n",
      "C:\\ProgramData\\anaconda3\\envs\\py310\\lib\\site-packages\\yfinance\\utils.py:775: FutureWarning: The 'unit' keyword in TimedeltaIndex construction is deprecated and will be removed in a future version. Use pd.to_timedelta instead.\n",
      "  df.index += _pd.TimedeltaIndex(dst_error_hours, 'h')\n",
      "[*********************100%%**********************]  1 of 1 completed\n",
      "C:\\ProgramData\\anaconda3\\envs\\py310\\lib\\site-packages\\yfinance\\utils.py:775: FutureWarning: The 'unit' keyword in TimedeltaIndex construction is deprecated and will be removed in a future version. Use pd.to_timedelta instead.\n",
      "  df.index += _pd.TimedeltaIndex(dst_error_hours, 'h')\n",
      "[*********************100%%**********************]  1 of 1 completed\n",
      "C:\\ProgramData\\anaconda3\\envs\\py310\\lib\\site-packages\\yfinance\\utils.py:775: FutureWarning: The 'unit' keyword in TimedeltaIndex construction is deprecated and will be removed in a future version. Use pd.to_timedelta instead.\n",
      "  df.index += _pd.TimedeltaIndex(dst_error_hours, 'h')\n",
      "[*********************100%%**********************]  1 of 1 completed\n"
     ]
    },
    {
     "name": "stdout",
     "output_type": "stream",
     "text": [
      "Shape of DataFrame:  (111491, 8)\n"
     ]
    }
   ],
   "source": [
    "df_raw = YahooDownloader(start_date = TRAIN_START_DATE,\n",
    "                     end_date = TRADE_END_DATE,\n",
    "                     ticker_list = config_tickers.DOW_30_TICKER).fetch_data()"
   ]
  },
  {
   "cell_type": "code",
   "execution_count": 10,
   "metadata": {
    "colab": {
     "base_uri": "https://localhost:8080/",
     "height": 206
    },
    "id": "RD9cjHzt8X3A",
    "outputId": "051acda5-c8fd-440a-a5af-6be04cfdc018"
   },
   "outputs": [
    {
     "data": {
      "text/html": [
       "<div>\n",
       "<style scoped>\n",
       "    .dataframe tbody tr th:only-of-type {\n",
       "        vertical-align: middle;\n",
       "    }\n",
       "\n",
       "    .dataframe tbody tr th {\n",
       "        vertical-align: top;\n",
       "    }\n",
       "\n",
       "    .dataframe thead th {\n",
       "        text-align: right;\n",
       "    }\n",
       "</style>\n",
       "<table border=\"1\" class=\"dataframe\">\n",
       "  <thead>\n",
       "    <tr style=\"text-align: right;\">\n",
       "      <th></th>\n",
       "      <th>date</th>\n",
       "      <th>open</th>\n",
       "      <th>high</th>\n",
       "      <th>low</th>\n",
       "      <th>close</th>\n",
       "      <th>volume</th>\n",
       "      <th>tic</th>\n",
       "      <th>day</th>\n",
       "    </tr>\n",
       "  </thead>\n",
       "  <tbody>\n",
       "    <tr>\n",
       "      <th>0</th>\n",
       "      <td>2009-01-02</td>\n",
       "      <td>3.067143</td>\n",
       "      <td>3.251429</td>\n",
       "      <td>3.041429</td>\n",
       "      <td>2.743890</td>\n",
       "      <td>746015200</td>\n",
       "      <td>AAPL</td>\n",
       "      <td>4</td>\n",
       "    </tr>\n",
       "    <tr>\n",
       "      <th>1</th>\n",
       "      <td>2009-01-02</td>\n",
       "      <td>58.590000</td>\n",
       "      <td>59.080002</td>\n",
       "      <td>57.750000</td>\n",
       "      <td>42.737888</td>\n",
       "      <td>6547900</td>\n",
       "      <td>AMGN</td>\n",
       "      <td>4</td>\n",
       "    </tr>\n",
       "    <tr>\n",
       "      <th>2</th>\n",
       "      <td>2009-01-02</td>\n",
       "      <td>18.570000</td>\n",
       "      <td>19.520000</td>\n",
       "      <td>18.400000</td>\n",
       "      <td>15.144922</td>\n",
       "      <td>10955700</td>\n",
       "      <td>AXP</td>\n",
       "      <td>4</td>\n",
       "    </tr>\n",
       "    <tr>\n",
       "      <th>3</th>\n",
       "      <td>2009-01-02</td>\n",
       "      <td>42.799999</td>\n",
       "      <td>45.560001</td>\n",
       "      <td>42.779999</td>\n",
       "      <td>33.941090</td>\n",
       "      <td>7010200</td>\n",
       "      <td>BA</td>\n",
       "      <td>4</td>\n",
       "    </tr>\n",
       "    <tr>\n",
       "      <th>4</th>\n",
       "      <td>2009-01-02</td>\n",
       "      <td>44.910000</td>\n",
       "      <td>46.980000</td>\n",
       "      <td>44.709999</td>\n",
       "      <td>30.950026</td>\n",
       "      <td>7117200</td>\n",
       "      <td>CAT</td>\n",
       "      <td>4</td>\n",
       "    </tr>\n",
       "  </tbody>\n",
       "</table>\n",
       "</div>"
      ],
      "text/plain": [
       "         date       open       high        low      close     volume   tic  \\\n",
       "0  2009-01-02   3.067143   3.251429   3.041429   2.743890  746015200  AAPL   \n",
       "1  2009-01-02  58.590000  59.080002  57.750000  42.737888    6547900  AMGN   \n",
       "2  2009-01-02  18.570000  19.520000  18.400000  15.144922   10955700   AXP   \n",
       "3  2009-01-02  42.799999  45.560001  42.779999  33.941090    7010200    BA   \n",
       "4  2009-01-02  44.910000  46.980000  44.709999  30.950026    7117200   CAT   \n",
       "\n",
       "   day  \n",
       "0    4  \n",
       "1    4  \n",
       "2    4  \n",
       "3    4  \n",
       "4    4  "
      ]
     },
     "execution_count": 10,
     "metadata": {},
     "output_type": "execute_result"
    }
   ],
   "source": [
    "df_raw.head()"
   ]
  },
  {
   "cell_type": "markdown",
   "metadata": {
    "id": "uqC6c40Zh1iH"
   },
   "source": [
    "# Part 3: Preprocess Data\n",
    "We need to check for missing data and do feature engineering to convert the data point into a state.\n",
    "* **Adding technical indicators**. In practical trading, various information needs to be taken into account, such as historical prices, current holding shares, technical indicators, etc. Here, we demonstrate two trend-following technical indicators: MACD and RSI.\n",
    "* **Adding turbulence index**. Risk-aversion reflects whether an investor prefers to protect the capital. It also influences one's trading strategy when facing different market volatility level. To control the risk in a worst-case scenario, such as financial crisis of 2007–2008, FinRL employs the turbulence index that measures extreme fluctuation of asset price."
   ]
  },
  {
   "cell_type": "markdown",
   "metadata": {
    "id": "1lQxLyWpdbAd"
   },
   "source": [
    "Hear let's take **MACD** as an example. Moving average convergence/divergence (MACD) is one of the most commonly used indicator showing bull and bear market. Its calculation is based on EMA (Exponential Moving Average indicator, measuring trend direction over a period of time.)"
   ]
  },
  {
   "cell_type": "code",
   "execution_count": 11,
   "metadata": {
    "colab": {
     "base_uri": "https://localhost:8080/"
    },
    "id": "PmKP-1ii3RLS",
    "outputId": "d514cf1a-8609-402e-ad58-df5f9100ec85"
   },
   "outputs": [
    {
     "name": "stdout",
     "output_type": "stream",
     "text": [
      "Successfully added technical indicators\n"
     ]
    },
    {
     "name": "stderr",
     "output_type": "stream",
     "text": [
      "C:\\ProgramData\\anaconda3\\envs\\py310\\lib\\site-packages\\yfinance\\utils.py:775: FutureWarning: The 'unit' keyword in TimedeltaIndex construction is deprecated and will be removed in a future version. Use pd.to_timedelta instead.\n",
      "  df.index += _pd.TimedeltaIndex(dst_error_hours, 'h')\n",
      "[*********************100%%**********************]  1 of 1 completed\n"
     ]
    },
    {
     "name": "stdout",
     "output_type": "stream",
     "text": [
      "Shape of DataFrame:  (3801, 8)\n",
      "Successfully added vix\n",
      "Successfully added turbulence index\n"
     ]
    }
   ],
   "source": [
    "fe = FeatureEngineer(use_technical_indicator=True,\n",
    "                     tech_indicator_list = INDICATORS,\n",
    "                     use_vix=True,\n",
    "                     use_turbulence=True,\n",
    "                     user_defined_feature = False)\n",
    "\n",
    "processed = fe.preprocess_data(df_raw)"
   ]
  },
  {
   "cell_type": "code",
   "execution_count": 12,
   "metadata": {
    "id": "Kixon2tR3RLT"
   },
   "outputs": [],
   "source": [
    "list_ticker = processed[\"tic\"].unique().tolist()\n",
    "list_date = list(pd.date_range(processed['date'].min(),processed['date'].max()).astype(str))\n",
    "combination = list(itertools.product(list_date,list_ticker))\n",
    "\n",
    "processed_full = pd.DataFrame(combination,columns=[\"date\",\"tic\"]).merge(processed,on=[\"date\",\"tic\"],how=\"left\")\n",
    "processed_full = processed_full[processed_full['date'].isin(processed['date'])]\n",
    "processed_full = processed_full.sort_values(['date','tic'])\n",
    "\n",
    "processed_full = processed_full.fillna(0)"
   ]
  },
  {
   "cell_type": "code",
   "execution_count": 13,
   "metadata": {
    "colab": {
     "base_uri": "https://localhost:8080/",
     "height": 357
    },
    "id": "HwKJNWJSabNK",
    "outputId": "16c8080e-91b0-4e8d-9a09-44939ac69801"
   },
   "outputs": [
    {
     "data": {
      "text/html": [
       "<div>\n",
       "<style scoped>\n",
       "    .dataframe tbody tr th:only-of-type {\n",
       "        vertical-align: middle;\n",
       "    }\n",
       "\n",
       "    .dataframe tbody tr th {\n",
       "        vertical-align: top;\n",
       "    }\n",
       "\n",
       "    .dataframe thead th {\n",
       "        text-align: right;\n",
       "    }\n",
       "</style>\n",
       "<table border=\"1\" class=\"dataframe\">\n",
       "  <thead>\n",
       "    <tr style=\"text-align: right;\">\n",
       "      <th></th>\n",
       "      <th>date</th>\n",
       "      <th>tic</th>\n",
       "      <th>open</th>\n",
       "      <th>high</th>\n",
       "      <th>low</th>\n",
       "      <th>close</th>\n",
       "      <th>volume</th>\n",
       "      <th>day</th>\n",
       "      <th>macd</th>\n",
       "      <th>boll_ub</th>\n",
       "      <th>boll_lb</th>\n",
       "      <th>rsi_30</th>\n",
       "      <th>cci_30</th>\n",
       "      <th>dx_30</th>\n",
       "      <th>close_30_sma</th>\n",
       "      <th>close_60_sma</th>\n",
       "      <th>vix</th>\n",
       "      <th>turbulence</th>\n",
       "    </tr>\n",
       "  </thead>\n",
       "  <tbody>\n",
       "    <tr>\n",
       "      <th>0</th>\n",
       "      <td>2009-01-02</td>\n",
       "      <td>AAPL</td>\n",
       "      <td>3.067143</td>\n",
       "      <td>3.251429</td>\n",
       "      <td>3.041429</td>\n",
       "      <td>2.743890</td>\n",
       "      <td>746015200.0</td>\n",
       "      <td>4.0</td>\n",
       "      <td>0.0</td>\n",
       "      <td>2.965559</td>\n",
       "      <td>2.638022</td>\n",
       "      <td>100.0</td>\n",
       "      <td>66.666667</td>\n",
       "      <td>100.0</td>\n",
       "      <td>2.743890</td>\n",
       "      <td>2.743890</td>\n",
       "      <td>39.189999</td>\n",
       "      <td>0.0</td>\n",
       "    </tr>\n",
       "    <tr>\n",
       "      <th>1</th>\n",
       "      <td>2009-01-02</td>\n",
       "      <td>AMGN</td>\n",
       "      <td>58.590000</td>\n",
       "      <td>59.080002</td>\n",
       "      <td>57.750000</td>\n",
       "      <td>42.737888</td>\n",
       "      <td>6547900.0</td>\n",
       "      <td>4.0</td>\n",
       "      <td>0.0</td>\n",
       "      <td>2.965559</td>\n",
       "      <td>2.638022</td>\n",
       "      <td>100.0</td>\n",
       "      <td>66.666667</td>\n",
       "      <td>100.0</td>\n",
       "      <td>42.737888</td>\n",
       "      <td>42.737888</td>\n",
       "      <td>39.189999</td>\n",
       "      <td>0.0</td>\n",
       "    </tr>\n",
       "    <tr>\n",
       "      <th>2</th>\n",
       "      <td>2009-01-02</td>\n",
       "      <td>AXP</td>\n",
       "      <td>18.570000</td>\n",
       "      <td>19.520000</td>\n",
       "      <td>18.400000</td>\n",
       "      <td>15.144922</td>\n",
       "      <td>10955700.0</td>\n",
       "      <td>4.0</td>\n",
       "      <td>0.0</td>\n",
       "      <td>2.965559</td>\n",
       "      <td>2.638022</td>\n",
       "      <td>100.0</td>\n",
       "      <td>66.666667</td>\n",
       "      <td>100.0</td>\n",
       "      <td>15.144922</td>\n",
       "      <td>15.144922</td>\n",
       "      <td>39.189999</td>\n",
       "      <td>0.0</td>\n",
       "    </tr>\n",
       "    <tr>\n",
       "      <th>3</th>\n",
       "      <td>2009-01-02</td>\n",
       "      <td>BA</td>\n",
       "      <td>42.799999</td>\n",
       "      <td>45.560001</td>\n",
       "      <td>42.779999</td>\n",
       "      <td>33.941090</td>\n",
       "      <td>7010200.0</td>\n",
       "      <td>4.0</td>\n",
       "      <td>0.0</td>\n",
       "      <td>2.965559</td>\n",
       "      <td>2.638022</td>\n",
       "      <td>100.0</td>\n",
       "      <td>66.666667</td>\n",
       "      <td>100.0</td>\n",
       "      <td>33.941090</td>\n",
       "      <td>33.941090</td>\n",
       "      <td>39.189999</td>\n",
       "      <td>0.0</td>\n",
       "    </tr>\n",
       "    <tr>\n",
       "      <th>4</th>\n",
       "      <td>2009-01-02</td>\n",
       "      <td>CAT</td>\n",
       "      <td>44.910000</td>\n",
       "      <td>46.980000</td>\n",
       "      <td>44.709999</td>\n",
       "      <td>30.950026</td>\n",
       "      <td>7117200.0</td>\n",
       "      <td>4.0</td>\n",
       "      <td>0.0</td>\n",
       "      <td>2.965559</td>\n",
       "      <td>2.638022</td>\n",
       "      <td>100.0</td>\n",
       "      <td>66.666667</td>\n",
       "      <td>100.0</td>\n",
       "      <td>30.950026</td>\n",
       "      <td>30.950026</td>\n",
       "      <td>39.189999</td>\n",
       "      <td>0.0</td>\n",
       "    </tr>\n",
       "  </tbody>\n",
       "</table>\n",
       "</div>"
      ],
      "text/plain": [
       "         date   tic       open       high        low      close       volume  \\\n",
       "0  2009-01-02  AAPL   3.067143   3.251429   3.041429   2.743890  746015200.0   \n",
       "1  2009-01-02  AMGN  58.590000  59.080002  57.750000  42.737888    6547900.0   \n",
       "2  2009-01-02   AXP  18.570000  19.520000  18.400000  15.144922   10955700.0   \n",
       "3  2009-01-02    BA  42.799999  45.560001  42.779999  33.941090    7010200.0   \n",
       "4  2009-01-02   CAT  44.910000  46.980000  44.709999  30.950026    7117200.0   \n",
       "\n",
       "   day  macd   boll_ub   boll_lb  rsi_30     cci_30  dx_30  close_30_sma  \\\n",
       "0  4.0   0.0  2.965559  2.638022   100.0  66.666667  100.0      2.743890   \n",
       "1  4.0   0.0  2.965559  2.638022   100.0  66.666667  100.0     42.737888   \n",
       "2  4.0   0.0  2.965559  2.638022   100.0  66.666667  100.0     15.144922   \n",
       "3  4.0   0.0  2.965559  2.638022   100.0  66.666667  100.0     33.941090   \n",
       "4  4.0   0.0  2.965559  2.638022   100.0  66.666667  100.0     30.950026   \n",
       "\n",
       "   close_60_sma        vix  turbulence  \n",
       "0      2.743890  39.189999         0.0  \n",
       "1     42.737888  39.189999         0.0  \n",
       "2     15.144922  39.189999         0.0  \n",
       "3     33.941090  39.189999         0.0  \n",
       "4     30.950026  39.189999         0.0  "
      ]
     },
     "execution_count": 13,
     "metadata": {},
     "output_type": "execute_result"
    }
   ],
   "source": [
    "processed_full.head()"
   ]
  },
  {
   "cell_type": "markdown",
   "metadata": {
    "id": "ydLNxwdPIJhW"
   },
   "source": [
    "# Part 4: Save the Data"
   ]
  },
  {
   "cell_type": "markdown",
   "metadata": {
    "id": "VbMDnfukILc_"
   },
   "source": [
    "### Split the data for training and trading"
   ]
  },
  {
   "cell_type": "code",
   "execution_count": 14,
   "metadata": {
    "colab": {
     "base_uri": "https://localhost:8080/"
    },
    "id": "iEiXDdUhZP7R",
    "outputId": "554b1c09-6d6f-48fb-c724-351b40a2ddaf"
   },
   "outputs": [
    {
     "name": "stdout",
     "output_type": "stream",
     "text": [
      "83897\n",
      "26332\n"
     ]
    }
   ],
   "source": [
    "train = data_split(processed_full, TRAIN_START_DATE,TRAIN_END_DATE)\n",
    "trade = data_split(processed_full, TRADE_START_DATE,TRADE_END_DATE)\n",
    "print(len(train))\n",
    "print(len(trade))"
   ]
  },
  {
   "cell_type": "markdown",
   "metadata": {
    "id": "DflbzEV8IRhF"
   },
   "source": [
    "### Save data to csv file"
   ]
  },
  {
   "cell_type": "markdown",
   "metadata": {
    "id": "Tud3IZDzIUpd"
   },
   "source": [
    "For Colab users, you can open the virtual directory in colab and manually download the files.\n",
    "\n",
    "For users running on your local environment, the csv files should be at the same directory of this notebook."
   ]
  },
  {
   "cell_type": "code",
   "execution_count": 15,
   "metadata": {
    "id": "j2c12CpfHEjE"
   },
   "outputs": [],
   "source": [
    "train.to_csv('train_data.csv')\n",
    "trade.to_csv('trade_data.csv')"
   ]
  },
  {
   "cell_type": "code",
   "execution_count": null,
   "metadata": {},
   "outputs": [],
   "source": []
  }
 ],
 "metadata": {
  "colab": {
   "provenance": []
  },
  "kernelspec": {
   "display_name": "Python 3 (ipykernel)",
   "language": "python",
   "name": "python3"
  },
  "language_info": {
   "codemirror_mode": {
    "name": "ipython",
    "version": 3
   },
   "file_extension": ".py",
   "mimetype": "text/x-python",
   "name": "python",
   "nbconvert_exporter": "python",
   "pygments_lexer": "ipython3",
   "version": "3.10.13"
  }
 },
 "nbformat": 4,
 "nbformat_minor": 4
}
